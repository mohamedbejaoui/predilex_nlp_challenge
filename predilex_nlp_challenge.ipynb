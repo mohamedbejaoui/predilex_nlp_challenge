{
 "cells": [
  {
   "cell_type": "markdown",
   "metadata": {},
   "source": [
    "# ENS Challenge Data - Predilex\n",
    "###  NLP applied to judicial decisions parsing \n",
    "#### Mohamed Bejaoui & Fei Wu & Carlos Augusto Figueiredo Freire De Carvalho "
   ]
  },
  {
   "cell_type": "markdown",
   "metadata": {},
   "source": [
    "Predilex has “jurisprudence” data as text files and they want to build an algorithm to automate the extraction of the following relevant information:\n",
    "<ul>\n",
    "    <li>the sex of the victim</li>\n",
    "    <li>the date of the accident</li>\n",
    "    <li>date of the consolidation</li>"
   ]
  },
  {
   "cell_type": "code",
   "execution_count": 1,
   "metadata": {},
   "outputs": [],
   "source": [
    "%load_ext autoreload\n",
    "%autoreload 2\n",
    "\n",
    "%matplotlib inline"
   ]
  },
  {
   "cell_type": "code",
   "execution_count": 2,
   "metadata": {},
   "outputs": [],
   "source": [
    "import os\n",
    "import pandas as pd\n",
    "import re\n",
    "import numpy as np\n",
    "from typing import List, Tuple\n",
    "\n",
    "from tqdm import tqdm\n",
    "from sklearn.feature_extraction.text import CountVectorizer, TfidfVectorizer\n",
    "from sklearn.linear_model import LogisticRegression\n",
    "from sklearn.model_selection import cross_validate, GridSearchCV, RandomizedSearchCV\n",
    "from sklearn.pipeline import FeatureUnion\n",
    "from xgboost import XGBClassifier\n",
    "from nltk.corpus import stopwords\n",
    "from nltk.tokenize import word_tokenize\n",
    "from nltk.stem import SnowballStemmer\n",
    "\n",
    "from utils import clean_text, apply_cv, perform_grid_search, clean2, remove_ambigous_sentences, find_opti_thresh"
   ]
  },
  {
   "cell_type": "markdown",
   "metadata": {},
   "source": [
    "## Data import and first look"
   ]
  },
  {
   "cell_type": "code",
   "execution_count": 117,
   "metadata": {},
   "outputs": [],
   "source": [
    "#x_train data\n",
    "x_tr_df = pd.read_csv('./train_folder/x_train_ids.csv', index_col=0)\n",
    "tr_dir = \"./train_folder/txt_files/\"\n",
    "tr_files = x_tr_df['filename'].values\n",
    "tr_texts = []\n",
    "for tr_file in tr_files:\n",
    "    f = open(os.path.join(tr_dir, tr_file), \"r\")\n",
    "    tr_texts.append(f.read().replace('\\xa0', ' ').replace('\\n', ' '))\n",
    "\n",
    "#x_test data\n",
    "x_te_df = pd.read_csv('./test_folder/x_test_ids.csv', index_col=0)\n",
    "te_dir = \"./test_folder/txt_files/\"\n",
    "te_files = x_te_df['filename'].values\n",
    "te_texts = []\n",
    "for te_file in te_files:\n",
    "    f = open(os.path.join(te_dir, te_file), \"r\")\n",
    "    te_texts.append(f.read().replace('\\xa0', ' ').replace('\\n', ' '))\n",
    "\n",
    "\n",
    "#y_train data\n",
    "y_tr_df = pd.read_csv('./Y_train_predilex.csv', index_col=0)"
   ]
  },
  {
   "cell_type": "markdown",
   "metadata": {},
   "source": [
    "This is how a training example looks like"
   ]
  },
  {
   "cell_type": "code",
   "execution_count": 118,
   "metadata": {},
   "outputs": [
    {
     "name": "stdout",
     "output_type": "stream",
     "text": [
      "File : Agen_100515.txt\n",
      "Text (200 first char): Le : 12/11/2019     Cour d’appel d’Agen    chambre sociale    Audience publique du 30 avril 2002    N° de RG: 01/00515          REPUBLIQUE FRANCAISE   AU NOM DU PEUPLE FRANCAIS   ARRET DU 30 AVRIL 200\n",
      "Output : \n",
      "sexe                       homme\n",
      "date_accident         1991-04-09\n",
      "date_consolidation          n.c.\n",
      "Name: 0, dtype: object\n"
     ]
    }
   ],
   "source": [
    "i = 0\n",
    "print('File :', x_tr_df.iloc[i]['filename'])\n",
    "print('Text (200 first char):', tr_texts[i][:200])\n",
    "print('Output : ')\n",
    "print(y_tr_df.iloc[i])"
   ]
  },
  {
   "cell_type": "code",
   "execution_count": 119,
   "metadata": {},
   "outputs": [
    {
     "name": "stdout",
     "output_type": "stream",
     "text": [
      "Number of training samples: 770\n",
      "Number of test samples: 257\n"
     ]
    }
   ],
   "source": [
    "print(f\"Number of training samples: {len(tr_texts)}\")\n",
    "print(f\"Number of test samples: {len(te_texts)}\")"
   ]
  },
  {
   "cell_type": "markdown",
   "metadata": {},
   "source": [
    "We can have a look at a \"jurisprudence\" text"
   ]
  },
  {
   "cell_type": "code",
   "execution_count": 120,
   "metadata": {},
   "outputs": [
    {
     "data": {
      "text/plain": [
       "'Le : 12/11/2019     Cour d’appel d’Agen    chambre sociale    Audience publique du 30 avril 2002    N° de RG: 01/00515          REPUBLIQUE FRANCAISE   AU NOM DU PEUPLE FRANCAIS   ARRET DU 30 AVRIL 2002 ----------------------- 01/00515 ----------------------- Yvon X... Annie X... C/ GROUPE AZUR ASSURANCES IARD CAISSE PRIMAIRE D’ASSURANCE MALADIE DE LOT ET GARONNE Yannick GUGUEN ès qualités de mandataire liquidateur à la liquidation judiciaire de la société des transports MOREL ----------------------- ARRET N° COUR D’APPEL D’AGEN CHAMBRE SOCIALE Prononcé à l’audience publique du trente Avril deux mille deux par Madame LATRABE, Conseiller, La COUR d’APPEL D’AGEN, CHAMBRE SOCIALE, dans l’affaire ENTRE : Monsieur Yvon X... né le 30 Septembre 1955 à TONNEINS (47) Y... du Laurier 47300 BIAS Rep/assistant : Me Pascale LUGUET (avocat au barreau d’AGEN) Madame Annie X... Y... du Laurier 47300 BIAS Rep/assistant : Me Pascale LUGUET (avocat au barreau d’AGEN) APPELANTS d’un jugement du Tribunal des affaires de sécurité sociale d’AGEN en date du 12 Février 2001 d’une part, ET : GROUPE AZUR ASSURANCES IARD 7 avenue Marcel Proust 28032 CHARTRES CEDEX Rep/assistant : Me Jean-Loup BOURDIN (avocat au barreau d’AGEN) CAISSE PRIMAIRE D’ASSURANCE MALADIE DE LOT ET GARONNE 2, rue Diderot 47914 AGEN CEDEX 9 représentée par Melle Z... (Mandataire) munie d’un pouvoir spécial Maître Yannick GUGUEN ès qualités de mandataire liquidateur à la liquidation judiciaire de la société des transports MOREL 22 boulevard Saint Cyr 47300 VILLENEUVE SUR LOT Rep/assistant : Me Jean-Loup BOURDIN (avocat au barreau d’AGEN) INTIMEE :      d’autre part,   DIRECTION REGIONALE DES AFFAIRES SANITAIRES ET SOCIALES AQUITAINE Cité Administrative BP 952 Rue Jules Ferry 33063 BORDEAUX CEDEX NI PRESENTE, NI REPRESENTEE PARTIE INTERVENANTE : A rendu l’arrêt réputé contradictoire suivant. La cause a été débattue et plaidée en audience publique le 19 Mars 2002 devant Monsieur MILHET, Président de Chambre, Madame LATRABE, Conseiller, Monsieur ROS, Conseiller, assistés de Nicole GALLOIS, Greffier et après qu’il en ait été délibéré par les magistrats du siège ayant assisté aux débats, les parties ayant été avisées de la date à laquelle l’arrêt serait rendu. * * *    Le 9 avril 1991, Monsieur X... a été victime d’un accident du travail au cours duquel il a été gravement blessé.    Suivant jugement en date du 24 avril 1997 confirmé par arrêt de la Cour en date du 30 mars 1999, le Tribunal des Affaires de Sécurité Sociale de LOT et GARONNE a dit que cet accident était dû à la faute   inexcusable de la S.A.R.L. TRANSPORTS MOREL, employeur de Monsieur X... et avant dire droit sur le préjudice, a ordonné une expertise médicale confiée au docteur A....    L’expert a déposé son rapport le 2 février 2 000.    Suivant jugement en date du 12 février 2 001, le Tribunal des Affaires de Sécurité Sociale de LOT et GARONNE a :    - rejeté l’intervention volontaire d’Annie X...    - fixé au maximum la majoration de rente    - condamné AZUR ASSURANCES à payer à Yvon X... la somme de 200 000 Francs en réparation des préjudices indemnisables    - déclaré la S.A.R.L. TRANSPORTS MOREL débitrice in solidum de cette somme    - dit que la C.P.A.M versera directement cette somme à Monsieur X... et qu’elle en récupérera le montant auprès d’AZUR ASSURANCES et de la S.A.R.L. TRANSPORTS MOREL, sous réserve pour cette dernière des règles de la procédure collective    - condamné AZUR ASSURANCES à payer à Monsieur X... la somme de 12 000 Francs au titre de l’article 700 du Nouveau Code de Procédure Civile.    Monsieur Yvon X... et Madame Annie X..., cette dernière agissant tant en son nom personnel qu’es qualité de représentante légale de ses deux enfants mineurs ont relevé appel de cette décision dans des conditions de forme et de délais qui ne sont pas contestées.   Monsieur et Madame X... font grief aux premiers juges d’avoir rejeté l’intervention volontaire de cette dernière alors pourtant qu’elle a tout intérêt à agir dans la mesure où, à la suite de l’accident dont Monsieur X... a été victime, elle a subi ainsi que les enfants mineurs, un préjudice moral et matériel considérable dont elle demande réparation.    Ils soutiennent, par ailleurs, que le Tribunal a sous évalué l’indemnisation des préjudices subis par Monsieur X... s’agissant des souffrances endurées, du préjudice esthétique, et du préjudice d’agrément.    Monsieur X... prétend enfin obtenir l’indemnisation du préjudice résultant de la perte de promotion professionnelle qu’il assimile à la perte de ses revenus professionnels pour les années à venir.    Ils demandent, dès lors, à la Cour de réformer la décision déférée et de :    - prendre acte de l’intervention volontaire de Madame X... en son nom personnel et en sa qualité de représentante légale de ses deux enfants mineurs,    - dire qu’ils sont victimes par ricochet et qu’ils peuvent solliciter à ce titre l’indemnisation de leurs préjudices,    - condamner solidairement le groupe AZUR et Maître GUGUEN es qualité de mandataire liquidateur de la S.A.R.L. TRANSPORTS MOREL à verser à Monsieur X... les sommes de 301 080 Euros au titre de la perte de   promotion professionnelle, 14 178 Euros au titre du pretium doloris, 30 491 Euros au titre du préjudice d’agrément et de 3 049 Euros au titre du préjudice esthétique.    - condamner les mêmes solidairement à verser à Madame X... en son nom personnel la somme de 62 130 Euros au titre de son préjudice professionnel et de 30 491 Euros au titre de son préjudice moral ainsi qu’en sa qualité de représentante légale de ses deux enfants mineurs la somme de 22 868 Euros pour chacun d’eux.    - les condamner enfin au paiement d’une somme de 3 049 Euros pour résistance abusive ainsi que d’une somme de 7 623 Euros au titre de l’article 700 du Nouveau Code de Procédure Civile.    Maître GUGUEN, es qualité de mandataire liquidateur de la Société des TRANSPORTS MOREL et la S.A. AZUR ASSURANCES demandent au contraire à la Cour de confirmer la décision entreprise sauf à réduire à 4 573,47 Euros (30 000 Francs) le montant de l’indemnité allouée à Monsieur X... en réparation de son préjudice d’agrément et à faire droit à leur appel incident concernant ce chef de préjudice ; ils sollicitent, enfin, la condamnation des appelants au paiement de la somme de 1 524,49 Euros (10 000 Francs) en application des dispositions de l’article 700 du Nouveau Code de Procédure Civile.    Ils soutiennent pour l’essentiel que :    - Madame X... est irrecevable en son action exercée tant en son nom propre qu’es qualité dans le cadre des dispositions législatives spécifiques aux accidents du travail.    - le préjudice d’agrément subi par Monsieur X... résulte seulement de la privation des activités sportives qu’il pratiquait avant   l’accident.    - Monsieur X... ne justifie pas de la perte ou de la diminution de ses possibilités de promotion professionnelle et le préjudice professionnel qu’il invoque à ce titre a déjà été indemnisé par la rente d’accident du travail de l’organisme social.    La Caisse Primaire d’Assurance Maladie de LOT ET GARONNE s’en remet à justice.    La Direction Régionale des Affaires Sanitaires et Sociales d’AQUITAINE, régulièrement convoquée n’a pas comparu ni personne pour elle.    SUR QUOI    Attendu que le conjoint de la victime blessée au cours d’un accident professionnel de la circulation n’est pas un ayant droit au sens des articles L 452-1 et suivants du Code de la Sécurité Sociale, en sorte qu’il ne peut prétendre devant le Tribunal des Affaires de la Sécurité Sociale ou devant la Cour statuant sur appel d’une décision rendue par cette juridiction, à la réparation de son préjudice personnel pas plus qu’à la réparation du préjudice subi personnellement par ses enfants mineurs.    Que le premier juge, après avoir procédé à une exacte analyse des faits de la cause, a donc à bon droit et en des attendus justes et bien fondés, rejeté l’intervention volontaire de Madame X... laquelle en appel, n’ apporte aucun argument décisif pour contredire ou réformer cette décision.    Attendu que s’agissant du préjudice subi par Monsieur X..., il suffit de rappeler qu’à la suite de l’accident dont il a été victime,   Monsieur X... a présenté un traumatisme crânien avec coma d’emblée et score de Glasgow à 7 ayant nécessité une hospitalisation dans le service de réanimation du CHU de BORDEAUX, un traumatisme thoracique avec fractures des arcs moyens des 5° et 6° côtes gauches, un traumatisme du membre inférieur droit avec fracture du péroné à droite ainsi qu’un traumatisme de l’épaule et du bras gauche avec présence d’un important hématome mais sans fracture sous jacente.    Qu’eu égard à la gravité des blessures subies par Monsieur X... et au caractère douloureux des interventions, traitements, et soins, qu’elles ont nécessité dans le cadre notamment de plusieurs hospitalisations en réanimation, en neuro chirurgie, en neurologie, en neuro psychiatrie et en centre de rééducation, l’indemnisation des souffrances endurées quantifiées par l’expert à 5,5/7 a été correctement fixée à 10 671,43 Euros ( 70 000 Francs) par le premier juge.    Que la réparation du préjudice esthétique quantifié par l’expert 1/7 et résultant d’une asymétrie du visage et d’une allure saccadée de la marche a été justement fixée à 1 524,49 Euros (10 000 Francs).    Que le préjudice d’agrément qui résulte de la perte de la qualité de la vie de la victime et notamment de l’impossibilité ou de la difficulté pour celle ci de se livrer à des activités normales d’agrément ne concerne pas seulement la privation d’activités sportives comme le vélo ou le judo mais aussi la perte des satisfactions usuelles de la vie sociale et familiale ; qu’en l’espèce, ce préjudice compte tenu de l’importance des privations endurées par Monsieur X... sur ces différents plans du fait de l’altération de ses facultés mentales d’initiative a été à juste titre évalué à la somme de 18 293,88 Euros (120 000 Francs).    Que la majoration de la rente a été à bon droit fixée au maximum.    Attendu que sous couvert d’indemnisation d’un préjudice résultant de   la perte ou de la diminution des possibilités de promotion professionnelle dont il ne rapporte pas la preuve, Monsieur X... qui explique que désormais aucune réinsertion professionnelle n’est envisageable, demande en réalité réparation d’un préjudice professionnel constitué par la perte de ses revenus pour les années à venir, lequel ne fait pas partie des préjudices indemnisables devant la juridiction de sécurité sociale limitativement énumérés aux articles L 452-2 et L 452-3 du Code de la Sécurité sociale; que l’intéressé bénéficie désormais d’une rente d’accident du travail tenant compte de sa situation sur le plan professionnel ; qu’une telle demande ne peut donc qu’être rejetée.    Attendu, enfin, qu’à l’appui de leur demande de dommages intérêts pour résistance abusive, les appelants ne caractérisent aucune faute imputable aux intimés et ne justifient d’aucun préjudice de nature à fonder cette prétention.    Qu’il convient, par conséquent, de confirmer la décision déférée en toutes ses dispositions.    Attendu que l’équité ne commande pas de faire application en cause d’appel des dispositions de l’article 700 du Nouveau Code de Procédure Civile.    Attendu que les dépens d’appel seront mis à la charge des appelants qui succombent pour l’essentiel.    PAR CES MOTIFS    LA COUR    Reçoit les appels jugés réguliers en la forme,    Au fond,    Confirme le jugement entrepris en toutes ses dispositions,    Rejette comme inutile ou mal fondée toute demande contraire ou plus ample des parties,    Condamne Monsieur Yvon X... et Madame Annie X... aux dépens de l’appel. LE GREFFIER,   LE PRESIDENT, N. GALLOIS   A. MILHET   Titrages et résumés : SECURITE SOCIALE, ACCIDENT DU TRAVAIL - Faute inexcusable de l’employeur - Procédure Le conjoint de la victime, blessée au cours d’un accident professionnel de la circulation, n’est pas un ayant droit au sens des articles L. 452-1 et suivants du Code de la sécurité sociale, en sorte qu’il ne peut prétendre, devant le Tribunal des Affaires de la Sécurité Sociale ou devant la Cour, statuant sur appel d’une décision rendue par cette juridiction, à la réparation de son préjudice personnel, pas plus qu’à la réparation du préjudice subi personnellement par ses enfants mineurs          Textes appliqués :  Code de la sécurité sociale, articles L. 452-1 et suivants '"
      ]
     },
     "execution_count": 120,
     "metadata": {},
     "output_type": "execute_result"
    }
   ],
   "source": [
    "tr_texts[0]"
   ]
  },
  {
   "cell_type": "markdown",
   "metadata": {},
   "source": [
    "## Gender prediction"
   ]
  },
  {
   "cell_type": "markdown",
   "metadata": {},
   "source": [
    "How many training examples with missing gender value?"
   ]
  },
  {
   "cell_type": "code",
   "execution_count": 134,
   "metadata": {},
   "outputs": [
    {
     "data": {
      "text/plain": [
       "0"
      ]
     },
     "execution_count": 134,
     "metadata": {},
     "output_type": "execute_result"
    }
   ],
   "source": [
    "len(y_tr_df[y_tr_df['sexe'] == 'n.c.'])"
   ]
  },
  {
   "cell_type": "code",
   "execution_count": 135,
   "metadata": {},
   "outputs": [],
   "source": [
    "# drop rows with unknow gender in training set\n",
    "gender_na_idx = y_tr_df[y_tr_df['sexe'] == 'n.c.'].index\n",
    "y_tr_df = y_tr_df[y_tr_df['sexe'] != 'n.c.']\n",
    "y_tr_df.reset_index(inplace=True, drop=True)\n",
    "\n",
    "tr_texts = [tr_texts[i] for i in range(len(tr_texts)) if i not in gender_na_idx]"
   ]
  },
  {
   "cell_type": "markdown",
   "metadata": {},
   "source": [
    "Now, we vectorize each training text and construct x_train and y_train"
   ]
  },
  {
   "cell_type": "code",
   "execution_count": 152,
   "metadata": {},
   "outputs": [],
   "source": [
    "tfidf_vec = FeatureUnion([\n",
    "    ('tfidf_ngram1', TfidfVectorizer(ngram_range=(1, 1), max_features=75)),\n",
    "    ('tfidf_ngram2', TfidfVectorizer(ngram_range=(1, 2), max_features=50))\n",
    "])\n",
    "x_train_gender = tfidf_vec.fit_transform([clean_text(text) for text in tr_texts])\n",
    "y_train_gender = y_tr_df['sexe'].map({'homme': 1, 'femme': 0}).values"
   ]
  },
  {
   "cell_type": "markdown",
   "metadata": {},
   "source": [
    "We can check if the data is unbalanced or not for the gender classification task"
   ]
  },
  {
   "cell_type": "code",
   "execution_count": 153,
   "metadata": {},
   "outputs": [
    {
     "name": "stdout",
     "output_type": "stream",
     "text": [
      "Number of samples for class 0: 206\n",
      "Number of samples for class 1: 559\n"
     ]
    }
   ],
   "source": [
    "c_val, c_count = np.unique(y_train_gender, return_counts=True)\n",
    "for i, c in enumerate(c_val):\n",
    "    print(f\"Number of samples for class {c}: {c_count[i]}\")"
   ]
  },
  {
   "cell_type": "markdown",
   "metadata": {},
   "source": [
    "Now, let's fit an xgboost classifier. First we will look for the optimal hyperparameters using a grid search"
   ]
  },
  {
   "cell_type": "code",
   "execution_count": 154,
   "metadata": {},
   "outputs": [
    {
     "name": "stdout",
     "output_type": "stream",
     "text": [
      "Fitting 3 folds for each of 54 candidates, totalling 162 fits\n"
     ]
    },
    {
     "name": "stderr",
     "output_type": "stream",
     "text": [
      "[Parallel(n_jobs=1)]: Using backend SequentialBackend with 1 concurrent workers.\n",
      "[Parallel(n_jobs=1)]: Done 162 out of 162 | elapsed:  3.6min finished\n"
     ]
    },
    {
     "name": "stdout",
     "output_type": "stream",
     "text": [
      "The best hyperparameters from Grid Seach are: {'colsample_bytree': 1, 'learning_rate': 0.1, 'max_depth': 3, 'subsample': 0.9}\n"
     ]
    }
   ],
   "source": [
    "random_state = 42\n",
    "\n",
    "param_grid = {\n",
    "    'max_depth': [3, 5, 7],\n",
    "    'learning_rate': [.01, .1],\n",
    "    'subsample': [.7, .9, 1],\n",
    "    'colsample_bytree': [.7, .9, 1],\n",
    "}\n",
    "xgb_cls = XGBClassifier(random_state=random_state)\n",
    "xgb_cls = perform_grid_search(xgb_cls, param_grid, x_train_gender, y_train_gender, metric='accuracy')"
   ]
  },
  {
   "cell_type": "markdown",
   "metadata": {},
   "source": [
    "We can test the performance of the classifier using a 3-fold cross validation"
   ]
  },
  {
   "cell_type": "code",
   "execution_count": 240,
   "metadata": {},
   "outputs": [
    {
     "name": "stdout",
     "output_type": "stream",
     "text": [
      "CV accuracy: 91.11%\n"
     ]
    }
   ],
   "source": [
    "apply_cv(xgb_cls, x_train_gender, y_train_gender, metric='accuracy', cv=3)"
   ]
  },
  {
   "cell_type": "code",
   "execution_count": 22,
   "metadata": {},
   "outputs": [
    {
     "data": {
      "text/plain": [
       "XGBClassifier(base_score=0.5, booster='gbtree', colsample_bylevel=1,\n",
       "              colsample_bynode=1, colsample_bytree=0.7, gamma=0,\n",
       "              learning_rate=0.1, max_delta_step=0, max_depth=5,\n",
       "              min_child_weight=1, missing=None, n_estimators=100, n_jobs=1,\n",
       "              nthread=None, objective='binary:logistic', random_state=42,\n",
       "              reg_alpha=0, reg_lambda=1, scale_pos_weight=1, seed=None,\n",
       "              silent=None, subsample=0.7, verbosity=1)"
      ]
     },
     "execution_count": 22,
     "metadata": {},
     "output_type": "execute_result"
    }
   ],
   "source": [
    "xgb_cls.fit(x_train_gender, y_train_gender)"
   ]
  },
  {
   "cell_type": "markdown",
   "metadata": {},
   "source": [
    "Now, let's predict the gender of the test dataset and save the result into a numpy array."
   ]
  },
  {
   "cell_type": "code",
   "execution_count": 23,
   "metadata": {},
   "outputs": [],
   "source": [
    "x_test_gender = tfidf_vec.transform([clean_text(text) for text in te_texts])\n",
    "y_test_gender = xgb_cls.predict(x_test_gender)\n",
    "y_test_gender = list(map(lambda x: 'homme' if x==1 else 'femme', y_test_gender))"
   ]
  },
  {
   "cell_type": "code",
   "execution_count": 24,
   "metadata": {},
   "outputs": [],
   "source": [
    "np.save('results/gender.npy', y_test_gender)"
   ]
  },
  {
   "cell_type": "markdown",
   "metadata": {},
   "source": [
    "## Accident date prediction"
   ]
  },
  {
   "cell_type": "markdown",
   "metadata": {},
   "source": [
    "First, we need to define a couple of useful variables"
   ]
  },
  {
   "cell_type": "code",
   "execution_count": 25,
   "metadata": {},
   "outputs": [],
   "source": [
    "# REGEX PATTERNS\n",
    "\n",
    "pattern1 = r\"\\d{1,2} \\w{3,9} \\d{2,4}\"\n",
    "pattern2 = r\"1° \\w{3,9} \\d{2,4}\"\n",
    "pattern3 = r\"1er \\w{3,9} \\d{2,4}\"\n",
    "pattern4 = r\"\\d{1,2}/\\d{1,2}/\\d{2,4}\"\n",
    "pattern5 = r\"\\d{1,2} / \\d{1,2} / \\d{2,4}\"\n",
    "pattern6 = r\"\\d{1,2}/ \\d{1,2}/ \\d{2,4}\"\n",
    "\n",
    "\n",
    "pattern1_bis = r\"(\\d{1,2}) (\\w{3,9}) (\\d{2,4})\"\n",
    "pattern2_bis = r\"(1°) (\\w{3,9}) (\\d{2,4})\"\n",
    "pattern3_bis = r\"(1er) (\\w{3,9}) (\\d{2,4})\"\n",
    "pattern4_bis = r\"(\\d{1,2})/(\\d{1,2})/(\\d{2,4})\"\n",
    "pattern5_bis = r\"(\\d{1,2}) / (\\d{1,2}) / (\\d{2,4})\"\n",
    "pattern6_bis = r\"(\\d{1,2})/ (\\d{1,2})/ (\\d{2,4})\"\n",
    "\n",
    "patterns = [pattern1, pattern2, pattern3, pattern4, pattern5, pattern6] \n",
    "patterns_bis = [pattern1_bis, pattern2_bis, pattern3_bis, pattern4_bis, pattern5_bis, pattern6_bis] \n",
    "    \n",
    "months_str_to_int = dict(janvier='01', fevrier='02', mars='03', avril='04', mai='05', juin='06',\n",
    "                         juillet='07', aout='08', septembre='09', octobre='10', novembre='11',\n",
    "                         decembre='12')\n",
    "\n",
    "def format_date(day:str, month:str, year:str):\n",
    "    if len(day) == 1:\n",
    "        day = '0' + day\n",
    "    elif not day.isnumeric():\n",
    "        day = '01'\n",
    "    if not month.isnumeric():\n",
    "        month = months_str_to_int[month]\n",
    "    elif len(month) == 1:\n",
    "        month = '0' + month\n",
    "    if len(year) == 2:\n",
    "        if int(year) < 30: year = '20' + year\n",
    "        else: year = '19' + year\n",
    "    return day, month, year"
   ]
  },
  {
   "cell_type": "markdown",
   "metadata": {},
   "source": [
    "Now, for each training text, we extract all sentences containing one or more dates."
   ]
  },
  {
   "cell_type": "code",
   "execution_count": 92,
   "metadata": {},
   "outputs": [
    {
     "name": "stderr",
     "output_type": "stream",
     "text": [
      "[nltk_data] Downloading package wordnet to /home/mohamed/nltk_data...\n",
      "[nltk_data]   Package wordnet is already up-to-date!\n",
      "[nltk_data] Downloading package stopwords to\n",
      "[nltk_data]     /home/mohamed/nltk_data...\n",
      "[nltk_data]   Package stopwords is already up-to-date!\n"
     ]
    },
    {
     "data": {
      "text/plain": [
       "True"
      ]
     },
     "execution_count": 92,
     "metadata": {},
     "output_type": "execute_result"
    }
   ],
   "source": [
    "import nltk\n",
    "from tqdm import tqdm\n",
    "import numpy as np\n",
    "from nltk.corpus import stopwords\n",
    "from nltk.stem import WordNetLemmatizer, SnowballStemmer\n",
    "nltk.download('wordnet')\n",
    "nltk.download('stopwords')"
   ]
  },
  {
   "cell_type": "code",
   "execution_count": 93,
   "metadata": {},
   "outputs": [],
   "source": [
    "stemmer = SnowballStemmer('french')\n",
    "lemmatizer = WordNetLemmatizer()\n",
    "stop_words = list(stopwords.words('french'))"
   ]
  },
  {
   "cell_type": "code",
   "execution_count": 94,
   "metadata": {},
   "outputs": [
    {
     "name": "stderr",
     "output_type": "stream",
     "text": [
      "100%|██████████| 765/765 [00:39<00:00, 19.20it/s]\n"
     ]
    }
   ],
   "source": [
    "leftover = []\n",
    "x_train = []\n",
    "y_train = []\n",
    "\n",
    "for i in tqdm(range(len(tr_texts))):\n",
    "    text = tr_texts[i]\n",
    "    if y_tr_df.iloc[i]['date_accident'] != 'n.c.':\n",
    "        index = []\n",
    "        dates = []\n",
    "        for k, pattern in enumerate(patterns):\n",
    "            index.extend(re.finditer(pattern, text))\n",
    "            dates.extend(re.findall(patterns_bis[k], text))\n",
    "\n",
    "        zipped = sorted(list(zip(index,dates)), key = lambda x: x[0].start())\n",
    "        for j in range((len(index))):\n",
    "            index[j] = zipped[j][0]\n",
    "            dates[j] = zipped[j][1]\n",
    "        start_index = index[2].end()\n",
    "        index = index[3:]\n",
    "        dates = dates[3:]\n",
    "\n",
    "        window = 100\n",
    "        sequences = []\n",
    "        for k, ind in enumerate(index):\n",
    "            day, month, year = dates[k][0], dates[k][1], dates[k][2]\n",
    "            month = month.lower().replace('é', 'e').replace('û', 'u')\n",
    "            if (month in months_str_to_int) or (month in months_str_to_int.values()):\n",
    "                day, month, year = format_date(day, month, year)\n",
    "                date = f\"{year}-{month}-{day}\"\n",
    "\n",
    "                if date == y_tr_df.iloc[i]['date_accident']: y_train.append(1)\n",
    "                else: y_train.append(0)\n",
    "\n",
    "                match1 = re.match(r\"[^\\.]*(\\.)\", text[ind.end(): ind.end() + window])        \n",
    "                match2 = re.match(r\"[^\\.]*(\\.)\", text[ind.start() - window : ind.start()][::-1])\n",
    "\n",
    "                if match2: start = len(text[:ind.start()]) - match2.end() + 1\n",
    "                else: start = ind.start() - window\n",
    "                if match1: end = len(text[:ind.end()]) + match1.end()\n",
    "                else: end = ind.end() + window\n",
    "\n",
    "                chunk = text[start:end]\n",
    "                if start == ind.start() - window: chunk = re.sub(r\"^[^\\s]*\\s*\", \"\", chunk)\n",
    "                if end == ind.end() + window: chunk = re.sub(r\"\\s*[^\\s]*$\", \"\", chunk)\n",
    "\n",
    "                chunk = clean2(chunk, lemmatizer, stemmer, stop_words = stop_words)\n",
    "                x_train.append(chunk)\n",
    "                \n",
    "                #if (start, end) in sequences and y_train[-1] == 1: print('text ' + str(i), (start,end))\n",
    "                sequences.append((start,end))\n",
    "                \n",
    "\n",
    "        final = []\n",
    "        i = 0\n",
    "        while i != len(sequences):\n",
    "            start = sequences[i][0]\n",
    "            while i+1 != len(sequences) and sequences[i+1][0] == start:\n",
    "                i += 1\n",
    "            end = sequences[i][1]\n",
    "            i += 1\n",
    "            final.append((start,end))\n",
    "\n",
    "        sequences = [(start_index, final[0][0])]\n",
    "        for i in range(len(final)-1):\n",
    "            sequences.append((final[i][1], final[i+1][0]))\n",
    "        sequences.append((final[-1][1],-1))\n",
    "\n",
    "        lf = ''\n",
    "        for s in sequences:\n",
    "            if s[1] == -1 or s[1] - s[0] >= 20: \n",
    "                morceau = re.sub(r\"^[^\\s]*\\s*\", \"\", text[s[0]:s[1]])\n",
    "                if s[1] != -1: morceau = re.sub(r\"\\s*[^\\s]*$\", \"\", morceau)\n",
    "                lf = lf + morceau + '. '\n",
    "        lf = lf[:-1]\n",
    "        leftover.append(lf)\n",
    "\n",
    "    else:\n",
    "        index = []\n",
    "        for k, pattern in enumerate(patterns):\n",
    "            index.extend(re.finditer(pattern, text))\n",
    "\n",
    "        index = sorted(index, key = lambda x: x.start())\n",
    "        start_index = index[2].end()\n",
    "        leftover.append(text[start_index:].strip())"
   ]
  },
  {
   "cell_type": "code",
   "execution_count": 95,
   "metadata": {},
   "outputs": [],
   "source": [
    "df = pd.DataFrame({'text': x_train, 'accident': y_train})\n",
    "df.drop_duplicates(subset=['text', 'accident'], inplace=True)\n",
    "remove_ambigous_sentences(df, 'accident');\n",
    "df.to_csv('data.csv')"
   ]
  },
  {
   "cell_type": "code",
   "execution_count": 96,
   "metadata": {},
   "outputs": [],
   "source": [
    "x_train = df['text'].to_numpy()\n",
    "y_train = df['accident'].to_numpy()"
   ]
  },
  {
   "cell_type": "markdown",
   "metadata": {},
   "source": [
    "Now, let's train an xgboost"
   ]
  },
  {
   "cell_type": "code",
   "execution_count": 97,
   "metadata": {},
   "outputs": [],
   "source": [
    "TF_IDF = FeatureUnion([\n",
    "    ('tfidf_ngram1', TfidfVectorizer(ngram_range=(1, 1), max_features=1000, norm='l2', sublinear_tf=True, min_df=25)),\n",
    "    ('tfidf_ngram2', TfidfVectorizer(ngram_range=(1, 2), max_features=750, norm='l2', sublinear_tf=True, min_df=25))\n",
    "])\n",
    "x_train = TF_IDF.fit_transform(x_train)"
   ]
  },
  {
   "cell_type": "code",
   "execution_count": 98,
   "metadata": {},
   "outputs": [],
   "source": [
    "classifier = XGBClassifier(max_depth = 5,\n",
    "                           n_estimators = 500,\n",
    "                           learning_rate = 0.1,\n",
    "                           subsample = 0.7,\n",
    "                           colsample_bytree = 0.9,\n",
    "                           random_state = 42)"
   ]
  },
  {
   "cell_type": "code",
   "execution_count": 99,
   "metadata": {},
   "outputs": [
    {
     "data": {
      "text/plain": [
       "XGBClassifier(base_score=0.5, booster='gbtree', colsample_bylevel=1,\n",
       "              colsample_bynode=1, colsample_bytree=0.9, gamma=0,\n",
       "              learning_rate=0.1, max_delta_step=0, max_depth=5,\n",
       "              min_child_weight=1, missing=None, n_estimators=500, n_jobs=1,\n",
       "              nthread=None, objective='binary:logistic', random_state=42,\n",
       "              reg_alpha=0, reg_lambda=1, scale_pos_weight=1, seed=None,\n",
       "              silent=None, subsample=0.7, verbosity=1)"
      ]
     },
     "execution_count": 99,
     "metadata": {},
     "output_type": "execute_result"
    }
   ],
   "source": [
    "classifier.fit(x_train, y_train)"
   ]
  },
  {
   "cell_type": "markdown",
   "metadata": {},
   "source": [
    "We can measure the performance of the predictor using cross validation on f1 and auc metrics"
   ]
  },
  {
   "cell_type": "code",
   "execution_count": 36,
   "metadata": {},
   "outputs": [
    {
     "name": "stdout",
     "output_type": "stream",
     "text": [
      "CV roc_auc: 91.11%\n",
      "None\n",
      "CV f1: 56.36%\n",
      "None\n"
     ]
    }
   ],
   "source": [
    "print(apply_cv(classifier, x_train, y_train, 'roc_auc'))\n",
    "print(apply_cv(classifier, x_train, y_train, 'f1'))"
   ]
  },
  {
   "cell_type": "markdown",
   "metadata": {},
   "source": [
    "Now, we will look for the optimal threshold under which we consider the accident date of a text as unknown(n.c.)"
   ]
  },
  {
   "cell_type": "code",
   "execution_count": 100,
   "metadata": {},
   "outputs": [],
   "source": [
    "proba = classifier.predict_proba(x_train)"
   ]
  },
  {
   "cell_type": "code",
   "execution_count": 101,
   "metadata": {},
   "outputs": [
    {
     "data": {
      "image/png": "[encoded data removed]",
      "text/plain": [
       "<Figure size 432x288 with 1 Axes>"
      ]
     },
     "metadata": {
      "needs_background": "light"
     },
     "output_type": "display_data"
    },
    {
     "name": "stdout",
     "output_type": "stream",
     "text": [
      "optimal threshold is 0.16364260017871857\n"
     ]
    }
   ],
   "source": [
    "t, _ = find_opti_thresh(y_train, proba[:,1])"
   ]
  },
  {
   "cell_type": "markdown",
   "metadata": {},
   "source": [
    "Now, we can do the predictions on the test set"
   ]
  },
  {
   "cell_type": "code",
   "execution_count": 102,
   "metadata": {},
   "outputs": [
    {
     "name": "stderr",
     "output_type": "stream",
     "text": [
      "100%|██████████| 257/257 [00:01<00:00, 212.42it/s]\n"
     ]
    }
   ],
   "source": [
    "candidates = []\n",
    "sentence_dates = []\n",
    "for i in tqdm(range(len(te_texts))):\n",
    "    text = te_texts[i]\n",
    "    index = []\n",
    "    dates = []\n",
    "    for k, pattern in enumerate(patterns):\n",
    "        index.extend(re.finditer(pattern, text))\n",
    "        dates.extend(re.findall(patterns_bis[k], text))\n",
    "\n",
    "    zipped = sorted(list(zip(index,dates)), key = lambda x: x[0].start())\n",
    "    for j in range((len(index))):\n",
    "        index[j] = zipped[j][0]\n",
    "        dates[j] = zipped[j][1]\n",
    "    index = index[3:]\n",
    "    dates = dates[3:]\n",
    "    \n",
    "    window = 100\n",
    "    data = []\n",
    "    s_d = []\n",
    "    for k, ind in enumerate(index):\n",
    "        day, month, year = dates[k][0], dates[k][1], dates[k][2]\n",
    "        month = month.lower().replace('é', 'e').replace('û', 'u')\n",
    "        if month in months_str_to_int:\n",
    "            day, month, year = format_date(day, month, year)\n",
    "            date = f\"{year}-{month}-{day}\"\n",
    "            s_d.append(date)\n",
    "\n",
    "            match1 = re.match(r\"[^\\.]*(\\.)\", text[ind.end(): ind.end() + window])        \n",
    "            match2 = re.match(r\"[^\\.]*(\\.)\", text[ind.start() - window : ind.start()][::-1])\n",
    "            if match2: start = len(text[:ind.start()]) - match2.end() + 1\n",
    "            else: start = ind.start() - window\n",
    "            if match1: end = len(text[:ind.end()]) + match1.end()\n",
    "            else: end = ind.end() + window\n",
    "\n",
    "            chunk = text[start:end]\n",
    "            if start == ind.start() - window: chunk = re.sub(r\"^[^\\s]*\\s*\", \"\", chunk)\n",
    "            if end == ind.end() + window: chunk = re.sub(r\"\\s*[^\\s]*$\", \"\", chunk)\n",
    "\n",
    "            #chunk = clean2(chunk, lemmatizer, stemmer, stop_words = stop_words)\n",
    "            data.append(chunk)\n",
    "\n",
    "    candidates.append(data)\n",
    "    sentence_dates.append(s_d)"
   ]
  },
  {
   "cell_type": "code",
   "execution_count": 103,
   "metadata": {},
   "outputs": [
    {
     "name": "stderr",
     "output_type": "stream",
     "text": [
      "100%|██████████| 257/257 [00:00<00:00, 543.47it/s]\n"
     ]
    }
   ],
   "source": [
    "test_sentences_df = pd.DataFrame(columns=['te_idx', 'sentence', 'date'])\n",
    "for i in tqdm(range(len(candidates))):\n",
    "    test_sentences_df = pd.concat([test_sentences_df, \n",
    "                            pd.DataFrame({'te_idx': [i]*len(candidates[i]), 'sentence': candidates[i], 'date': sentence_dates[i]})],\n",
    "                            ignore_index=True)"
   ]
  },
  {
   "cell_type": "code",
   "execution_count": 104,
   "metadata": {},
   "outputs": [],
   "source": [
    "sentences_w_multip_dates_idx = list(test_sentences_df[test_sentences_df.duplicated('sentence')].index)\n",
    "split_sentences_df = pd.DataFrame(columns=test_sentences_df.columns)\n",
    "\n",
    "while sentences_w_multip_dates_idx != []:\n",
    "    idx = sentences_w_multip_dates_idx[0]\n",
    "    sentence = test_sentences_df.loc[idx, 'sentence']\n",
    "    te_idx = test_sentences_df.loc[idx, 'te_idx']\n",
    "    sentence_window = len(sentence) // 5\n",
    "    sentences = {}\n",
    "\n",
    "    for pattern_idx, pattern in enumerate(patterns):\n",
    "        for date in re.finditer(pattern, sentence):\n",
    "            current_date = date.group(0)\n",
    "            reg_match = re.match(patterns_bis[pattern_idx], current_date)\n",
    "            day, month, year = reg_match[1], reg_match[2], reg_match[3]\n",
    "            try:\n",
    "                day, month, year = format_date(day, month, year)\n",
    "            except KeyError:\n",
    "                continue            \n",
    "            formated_date = f\"{year}-{month}-{day}\"\n",
    "            sentences[formated_date] = sentence[max(date.start()-sentence_window, 0):date.end()+sentence_window]\n",
    "\n",
    "    # drop current duplicated sentences from dataframe\n",
    "    same_sentences_idx = test_sentences_df[(test_sentences_df['sentence']==sentence) & (test_sentences_df['te_idx']==te_idx)].index\n",
    "    test_sentences_df.drop(same_sentences_idx, inplace=True)\n",
    "    for idx in list(same_sentences_idx):\n",
    "        if idx in sentences_w_multip_dates_idx:\n",
    "            sentences_w_multip_dates_idx.remove(idx)\n",
    "    split_sentences_df = pd.concat([split_sentences_df, \n",
    "            pd.DataFrame({'te_idx': [te_idx]*len(list(sentences.values())), 'sentence': list(sentences.values()), 'date': list(sentences.keys())})],\n",
    "            ignore_index=True)\n",
    "\n",
    "test_sentences_df = pd.concat([test_sentences_df, split_sentences_df], ignore_index=True)"
   ]
  },
  {
   "cell_type": "code",
   "execution_count": 105,
   "metadata": {},
   "outputs": [
    {
     "name": "stderr",
     "output_type": "stream",
     "text": [
      "100%|██████████| 257/257 [00:00<00:00, 606.76it/s]\n"
     ]
    }
   ],
   "source": [
    "candidates = []\n",
    "sentence_dates = []\n",
    "\n",
    "for i in tqdm(range(len(te_texts))):\n",
    "    candidates.append(list(test_sentences_df.loc[test_sentences_df['te_idx']==i, 'sentence'].values))\n",
    "    sentence_dates.append(list(test_sentences_df.loc[test_sentences_df['te_idx']==i, 'date'].values))"
   ]
  },
  {
   "cell_type": "code",
   "execution_count": 106,
   "metadata": {},
   "outputs": [
    {
     "name": "stderr",
     "output_type": "stream",
     "text": [
      "100%|██████████| 257/257 [00:07<00:00, 32.54it/s]\n"
     ]
    }
   ],
   "source": [
    "# clean texts\n",
    "for i in tqdm(range(len(candidates))):\n",
    "    candidates[i] = [clean2(candidate, lemmatizer, stemmer, stop_words = stop_words) for candidate in \n",
    "                        candidates[i]]"
   ]
  },
  {
   "cell_type": "code",
   "execution_count": 107,
   "metadata": {},
   "outputs": [],
   "source": [
    "for i in range(len(candidates)):\n",
    "    candidate = TF_IDF.transform(candidates[i])\n",
    "    candidates[i] = candidate"
   ]
  },
  {
   "cell_type": "code",
   "execution_count": 108,
   "metadata": {},
   "outputs": [],
   "source": [
    "preds = []\n",
    "for i, candidate in enumerate(candidates):\n",
    "    pred = np.argmax(classifier.predict_proba(candidate)[:,1])\n",
    "    score = np.max(classifier.predict_proba(candidate)[:,1])\n",
    "    if score < t: preds.append('n.c.')\n",
    "    else:\n",
    "        pred_date = sentence_dates[i][pred]\n",
    "        preds.append(pred_date)"
   ]
  },
  {
   "cell_type": "code",
   "execution_count": 110,
   "metadata": {},
   "outputs": [],
   "source": [
    "np.save('results/accident.npy', preds)"
   ]
  },
  {
   "cell_type": "markdown",
   "metadata": {},
   "source": [
    "## Consolidation date prediction"
   ]
  },
  {
   "cell_type": "code",
   "execution_count": 49,
   "metadata": {},
   "outputs": [],
   "source": [
    "stemmer = SnowballStemmer('french')\n",
    "lemmatizer = WordNetLemmatizer()\n",
    "stop_words = list(stopwords.words('french'))"
   ]
  },
  {
   "cell_type": "code",
   "execution_count": 50,
   "metadata": {},
   "outputs": [
    {
     "name": "stderr",
     "output_type": "stream",
     "text": [
      "100%|██████████| 765/765 [00:31<00:00, 23.98it/s]\n"
     ]
    }
   ],
   "source": [
    "leftover = []\n",
    "x_train = []\n",
    "y_train = []\n",
    "\n",
    "for i in tqdm(range(len(tr_texts))):\n",
    "    text = tr_texts[i]\n",
    "    if y_tr_df.iloc[i]['date_consolidation'] != 'n.c.' and y_tr_df.iloc[i]['date_consolidation'] != 'n.a.':\n",
    "        index = []\n",
    "        dates = []\n",
    "        for k, pattern in enumerate(patterns):\n",
    "            index.extend(re.finditer(pattern, text))\n",
    "            dates.extend(re.findall(patterns_bis[k], text))\n",
    "\n",
    "        zipped = sorted(list(zip(index,dates)), key = lambda x: x[0].start())\n",
    "        for j in range((len(index))):\n",
    "            index[j] = zipped[j][0]\n",
    "            dates[j] = zipped[j][1]\n",
    "        start_index = index[2].end()\n",
    "        index = index[3:]\n",
    "        dates = dates[3:]\n",
    "\n",
    "        window = 100\n",
    "        sequences = []\n",
    "        for k, ind in enumerate(index):\n",
    "            day, month, year = dates[k][0], dates[k][1], dates[k][2]\n",
    "            month = month.lower().replace('é', 'e').replace('û', 'u')\n",
    "            if (month in months_str_to_int) or (month in months_str_to_int.values()):\n",
    "                day, month, year = format_date(day, month, year)\n",
    "                date = f\"{year}-{month}-{day}\"\n",
    "\n",
    "                if date == y_tr_df.iloc[i]['date_consolidation']: y_train.append(1)\n",
    "                else: y_train.append(0)\n",
    "\n",
    "                match1 = re.match(r\"[^\\.]*(\\.)\", text[ind.end(): ind.end() + window])        \n",
    "                match2 = re.match(r\"[^\\.]*(\\.)\", text[ind.start() - window : ind.start()][::-1])\n",
    "\n",
    "                if match2: start = len(text[:ind.start()]) - match2.end() + 1\n",
    "                else: start = ind.start() - window\n",
    "                if match1: end = len(text[:ind.end()]) + match1.end()\n",
    "                else: end = ind.end() + window\n",
    "\n",
    "                chunk = text[start:end]\n",
    "                if start == ind.start() - window: chunk = re.sub(r\"^[^\\s]*\\s*\", \"\", chunk)\n",
    "                if end == ind.end() + window: chunk = re.sub(r\"\\s*[^\\s]*$\", \"\", chunk)\n",
    "\n",
    "                chunk = clean2(chunk, lemmatizer, stemmer, stop_words = stop_words)\n",
    "                x_train.append(chunk)\n",
    "                \n",
    "                #if (start, end) in sequences and y_train[-1] == 1: print('text ' + str(i), (start,end))\n",
    "                sequences.append((start,end))\n",
    "                \n",
    "\n",
    "        final = []\n",
    "        i = 0\n",
    "        while i != len(sequences):\n",
    "            start = sequences[i][0]\n",
    "            while i+1 != len(sequences) and sequences[i+1][0] == start:\n",
    "                i += 1\n",
    "            end = sequences[i][1]\n",
    "            i += 1\n",
    "            final.append((start,end))\n",
    "\n",
    "        sequences = [(start_index, final[0][0])]\n",
    "        for i in range(len(final)-1):\n",
    "            sequences.append((final[i][1], final[i+1][0]))\n",
    "        sequences.append((final[-1][1],-1))\n",
    "\n",
    "        lf = ''\n",
    "        for s in sequences:\n",
    "            if s[1] == -1 or s[1] - s[0] >= 20: \n",
    "                morceau = re.sub(r\"^[^\\s]*\\s*\", \"\", text[s[0]:s[1]])\n",
    "                if s[1] != -1: morceau = re.sub(r\"\\s*[^\\s]*$\", \"\", morceau)\n",
    "                lf = lf + morceau + '. '\n",
    "        lf = lf[:-1]\n",
    "        leftover.append(lf)\n",
    "\n",
    "    else:\n",
    "        index = []\n",
    "        for k, pattern in enumerate(patterns):\n",
    "            index.extend(re.finditer(pattern, text))\n",
    "\n",
    "        index = sorted(index, key = lambda x: x.start())\n",
    "        start_index = index[2].end()\n",
    "        leftover.append(text[start_index:].strip())"
   ]
  },
  {
   "cell_type": "code",
   "execution_count": 51,
   "metadata": {},
   "outputs": [],
   "source": [
    "df = pd.DataFrame({'text': x_train, 'consolidation': y_train})\n",
    "df.drop_duplicates(subset=['text', 'consolidation'], inplace=True)\n",
    "remove_ambigous_sentences(df, 'consolidation');\n",
    "df.to_csv('data.csv')"
   ]
  },
  {
   "cell_type": "code",
   "execution_count": 53,
   "metadata": {},
   "outputs": [],
   "source": [
    "x_train = df['text'].to_numpy()\n",
    "y_train = df['consolidation'].to_numpy()"
   ]
  },
  {
   "cell_type": "markdown",
   "metadata": {},
   "source": [
    "Here, in addition to classifing sentences containig a consolidation date or not, we will also build another classifier to tell where a consolidation date in applicable or not (n.a.) in a certain text"
   ]
  },
  {
   "cell_type": "code",
   "execution_count": 61,
   "metadata": {},
   "outputs": [],
   "source": [
    "# construct na_x_train using a tfidfvec and na_y_train using label 1 for 'na' and label 0 for 'non na'\n",
    "na_vectorizer = FeatureUnion([\n",
    "    ('tfidf_ngram1', TfidfVectorizer(ngram_range=(1, 1), max_features=75, norm='l2', sublinear_tf=True, min_df=25)),\n",
    "    ('tfidf_ngram2', TfidfVectorizer(ngram_range=(1, 2), max_features=25, norm='l2', sublinear_tf=True, min_df=25))\n",
    "])\n",
    "na_x_train = na_vectorizer.fit_transform([clean_text(text) for text in tr_texts])\n",
    "na_y_train = np.zeros((len(tr_texts),))\n",
    "na_y_train[y_tr_df['date_consolidation']=='n.a.'] = 1"
   ]
  },
  {
   "cell_type": "code",
   "execution_count": 62,
   "metadata": {},
   "outputs": [
    {
     "name": "stdout",
     "output_type": "stream",
     "text": [
      "Fitting 3 folds for each of 54 candidates, totalling 162 fits\n"
     ]
    },
    {
     "name": "stderr",
     "output_type": "stream",
     "text": [
      "[Parallel(n_jobs=1)]: Using backend SequentialBackend with 1 concurrent workers.\n",
      "[Parallel(n_jobs=1)]: Done 162 out of 162 | elapsed:  2.0min finished\n"
     ]
    },
    {
     "name": "stdout",
     "output_type": "stream",
     "text": [
      "The best hyperparameters from Grid Seach are: {'colsample_bytree': 0.9, 'learning_rate': 0.01, 'max_depth': 7, 'subsample': 0.9}\n"
     ]
    }
   ],
   "source": [
    "# train an xgboost using gridsearch\n",
    "random_state = 42\n",
    "\n",
    "param_grid = {\n",
    "    'max_depth': [3, 5, 7],\n",
    "    'learning_rate': [.01, .1],\n",
    "    'subsample': [.7, .9, 1],\n",
    "    'colsample_bytree': [.7, .9, 1],\n",
    "}\n",
    "xgb_cls_na = XGBClassifier(random_state=random_state)\n",
    "xgb_cls_na = perform_grid_search(xgb_cls_na, param_grid, na_x_train, na_y_train, metric='accuracy')"
   ]
  },
  {
   "cell_type": "code",
   "execution_count": 63,
   "metadata": {},
   "outputs": [
    {
     "name": "stdout",
     "output_type": "stream",
     "text": [
      "CV accuracy: 93.59%\n"
     ]
    }
   ],
   "source": [
    "apply_cv(xgb_cls_na, na_x_train, na_y_train, metric='accuracy', cv=3)"
   ]
  },
  {
   "cell_type": "code",
   "execution_count": 64,
   "metadata": {},
   "outputs": [
    {
     "data": {
      "text/plain": [
       "XGBClassifier(base_score=0.5, booster='gbtree', colsample_bylevel=1,\n",
       "              colsample_bynode=1, colsample_bytree=0.9, gamma=0,\n",
       "              learning_rate=0.01, max_delta_step=0, max_depth=7,\n",
       "              min_child_weight=1, missing=None, n_estimators=100, n_jobs=1,\n",
       "              nthread=None, objective='binary:logistic', random_state=42,\n",
       "              reg_alpha=0, reg_lambda=1, scale_pos_weight=1, seed=None,\n",
       "              silent=None, subsample=0.9, verbosity=1)"
      ]
     },
     "execution_count": 64,
     "metadata": {},
     "output_type": "execute_result"
    }
   ],
   "source": [
    "xgb_cls_na.fit(na_x_train, na_y_train)"
   ]
  },
  {
   "cell_type": "markdown",
   "metadata": {},
   "source": [
    "Now, we move on to the vectorization of the extracted senteces database with the exact same methodology as the one for the accident date"
   ]
  },
  {
   "cell_type": "code",
   "execution_count": 65,
   "metadata": {},
   "outputs": [],
   "source": [
    "TF_IDF = FeatureUnion([\n",
    "    ('tfidf_ngram1', TfidfVectorizer(ngram_range=(1, 1), max_features=850, norm='l2', sublinear_tf=True, min_df=25)),\n",
    "    ('tfidf_ngram2', TfidfVectorizer(ngram_range=(1, 2), max_features=850, norm='l2', sublinear_tf=True, min_df=25))\n",
    "])\n",
    "x_train = TF_IDF.fit_transform(x_train)"
   ]
  },
  {
   "cell_type": "code",
   "execution_count": 66,
   "metadata": {},
   "outputs": [],
   "source": [
    "classifier = XGBClassifier(max_depth = 5,\n",
    "                           n_estimators=300,\n",
    "                           learning_rate = 0.1,\n",
    "                           subsample = 0.7,\n",
    "                           colsample_bytree = 0.9,\n",
    "                           random_state = 42)"
   ]
  },
  {
   "cell_type": "code",
   "execution_count": 67,
   "metadata": {},
   "outputs": [
    {
     "data": {
      "text/plain": [
       "XGBClassifier(base_score=0.5, booster='gbtree', colsample_bylevel=1,\n",
       "              colsample_bynode=1, colsample_bytree=0.9, gamma=0,\n",
       "              learning_rate=0.1, max_delta_step=0, max_depth=5,\n",
       "              min_child_weight=1, missing=None, n_estimators=300, n_jobs=1,\n",
       "              nthread=None, objective='binary:logistic', random_state=42,\n",
       "              reg_alpha=0, reg_lambda=1, scale_pos_weight=1, seed=None,\n",
       "              silent=None, subsample=0.7, verbosity=1)"
      ]
     },
     "execution_count": 67,
     "metadata": {},
     "output_type": "execute_result"
    }
   ],
   "source": [
    "classifier.fit(x_train, y_train)"
   ]
  },
  {
   "cell_type": "code",
   "execution_count": 70,
   "metadata": {},
   "outputs": [
    {
     "name": "stdout",
     "output_type": "stream",
     "text": [
      "CV roc_auc: 91.44%\n",
      "None\n",
      "CV f1: 50.32%\n",
      "None\n"
     ]
    }
   ],
   "source": [
    "print(apply_cv(classifier, x_train, y_train, 'roc_auc'))\n",
    "print(apply_cv(classifier, x_train, y_train, 'f1'))"
   ]
  },
  {
   "cell_type": "code",
   "execution_count": 71,
   "metadata": {},
   "outputs": [],
   "source": [
    "proba = classifier.predict_proba(x_train)"
   ]
  },
  {
   "cell_type": "code",
   "execution_count": 72,
   "metadata": {},
   "outputs": [
    {
     "data": {
      "image/png": "[encoded data removed]",
      "text/plain": [
       "<Figure size 432x288 with 1 Axes>"
      ]
     },
     "metadata": {
      "needs_background": "light"
     },
     "output_type": "display_data"
    },
    {
     "name": "stdout",
     "output_type": "stream",
     "text": [
      "optimal threshold is 0.08722221106290817\n"
     ]
    }
   ],
   "source": [
    "t, _ = find_opti_thresh(y_train, proba[:,1])"
   ]
  },
  {
   "cell_type": "markdown",
   "metadata": {},
   "source": [
    "Now, once the training is done, we predict the consolidation date for the test texts"
   ]
  },
  {
   "cell_type": "code",
   "execution_count": 73,
   "metadata": {},
   "outputs": [
    {
     "name": "stderr",
     "output_type": "stream",
     "text": [
      "100%|██████████| 257/257 [00:01<00:00, 194.81it/s]\n"
     ]
    }
   ],
   "source": [
    "candidates = []\n",
    "sentence_dates = []\n",
    "for i in tqdm(range(len(te_texts))):\n",
    "    text = te_texts[i]\n",
    "    index = []\n",
    "    dates = []\n",
    "    for k, pattern in enumerate(patterns):\n",
    "        index.extend(re.finditer(pattern, text))\n",
    "        dates.extend(re.findall(patterns_bis[k], text))\n",
    "\n",
    "    zipped = sorted(list(zip(index,dates)), key = lambda x: x[0].start())\n",
    "    for j in range((len(index))):\n",
    "        index[j] = zipped[j][0]\n",
    "        dates[j] = zipped[j][1]\n",
    "    index = index[3:]\n",
    "    dates = dates[3:]\n",
    "    \n",
    "    window = 100\n",
    "    data = []\n",
    "    s_d = []\n",
    "    for k, ind in enumerate(index):\n",
    "        day, month, year = dates[k][0], dates[k][1], dates[k][2]\n",
    "        month = month.lower().replace('é', 'e').replace('û', 'u')\n",
    "        if month in months_str_to_int:\n",
    "            day, month, year = format_date(day, month, year)\n",
    "            date = f\"{year}-{month}-{day}\"\n",
    "            s_d.append(date)\n",
    "\n",
    "            match1 = re.match(r\"[^\\.]*(\\.)\", text[ind.end(): ind.end() + window])        \n",
    "            match2 = re.match(r\"[^\\.]*(\\.)\", text[ind.start() - window : ind.start()][::-1])\n",
    "            if match2: start = len(text[:ind.start()]) - match2.end() + 1\n",
    "            else: start = ind.start() - window\n",
    "            if match1: end = len(text[:ind.end()]) + match1.end()\n",
    "            else: end = ind.end() + window\n",
    "\n",
    "            chunk = text[start:end]\n",
    "            if start == ind.start() - window: chunk = re.sub(r\"^[^\\s]*\\s*\", \"\", chunk)\n",
    "            if end == ind.end() + window: chunk = re.sub(r\"\\s*[^\\s]*$\", \"\", chunk)\n",
    "\n",
    "            data.append(chunk)\n",
    "\n",
    "    candidates.append(data)\n",
    "    sentence_dates.append(s_d)"
   ]
  },
  {
   "cell_type": "code",
   "execution_count": 74,
   "metadata": {},
   "outputs": [
    {
     "name": "stderr",
     "output_type": "stream",
     "text": [
      "100%|██████████| 257/257 [00:00<00:00, 538.04it/s]\n"
     ]
    }
   ],
   "source": [
    "test_sentences_df = pd.DataFrame(columns=['te_idx', 'sentence', 'date'])\n",
    "for i in tqdm(range(len(candidates))):\n",
    "    test_sentences_df = pd.concat([test_sentences_df, \n",
    "                            pd.DataFrame({'te_idx': [i]*len(candidates[i]), 'sentence': candidates[i], 'date': sentence_dates[i]})],\n",
    "                            ignore_index=True)"
   ]
  },
  {
   "cell_type": "code",
   "execution_count": 76,
   "metadata": {},
   "outputs": [],
   "source": [
    "sentences_w_multip_dates_idx = list(test_sentences_df[test_sentences_df.duplicated('sentence')].index)\n",
    "split_sentences_df = pd.DataFrame(columns=test_sentences_df.columns)\n",
    "\n",
    "while sentences_w_multip_dates_idx != []:\n",
    "    idx = sentences_w_multip_dates_idx[0]\n",
    "    sentence = test_sentences_df.loc[idx, 'sentence']\n",
    "    te_idx = test_sentences_df.loc[idx, 'te_idx']\n",
    "    sentence_window = len(sentence) // 5\n",
    "    sentences = {}\n",
    "\n",
    "    for pattern_idx, pattern in enumerate(patterns):\n",
    "        for date in re.finditer(pattern, sentence):\n",
    "            current_date = date.group(0)\n",
    "            reg_match = re.match(patterns_bis[pattern_idx], current_date)\n",
    "            day, month, year = reg_match[1], reg_match[2], reg_match[3]\n",
    "            try:\n",
    "                day, month, year = format_date(day, month, year)\n",
    "            except KeyError:\n",
    "                continue            \n",
    "            formated_date = f\"{year}-{month}-{day}\"\n",
    "            sentences[formated_date] = sentence[max(date.start()-sentence_window, 0):date.end()+sentence_window]\n",
    "\n",
    "    # drop current duplicated sentences from dataframe\n",
    "    same_sentences_idx = test_sentences_df[(test_sentences_df['sentence']==sentence) & (test_sentences_df['te_idx']==te_idx)].index\n",
    "    test_sentences_df.drop(same_sentences_idx, inplace=True)\n",
    "    for idx in list(same_sentences_idx):\n",
    "        if idx in sentences_w_multip_dates_idx:\n",
    "            sentences_w_multip_dates_idx.remove(idx)\n",
    "    split_sentences_df = pd.concat([split_sentences_df, \n",
    "            pd.DataFrame({'te_idx': [te_idx]*len(list(sentences.values())), 'sentence': list(sentences.values()), 'date': list(sentences.keys())})],\n",
    "            ignore_index=True)\n",
    "\n",
    "test_sentences_df = pd.concat([test_sentences_df, split_sentences_df], ignore_index=True)"
   ]
  },
  {
   "cell_type": "code",
   "execution_count": 77,
   "metadata": {},
   "outputs": [
    {
     "name": "stderr",
     "output_type": "stream",
     "text": [
      "100%|██████████| 257/257 [00:00<00:00, 597.16it/s]\n"
     ]
    }
   ],
   "source": [
    "candidates = []\n",
    "sentence_dates = []\n",
    "\n",
    "for i in tqdm(range(len(te_texts))):\n",
    "    candidates.append(list(test_sentences_df.loc[test_sentences_df['te_idx']==i, 'sentence'].values))\n",
    "    sentence_dates.append(list(test_sentences_df.loc[test_sentences_df['te_idx']==i, 'date'].values))"
   ]
  },
  {
   "cell_type": "code",
   "execution_count": 78,
   "metadata": {},
   "outputs": [
    {
     "name": "stderr",
     "output_type": "stream",
     "text": [
      "100%|██████████| 257/257 [00:08<00:00, 28.84it/s]\n"
     ]
    }
   ],
   "source": [
    "# clean texts\n",
    "for i in tqdm(range(len(candidates))):\n",
    "    candidates[i] = [clean2(candidate, lemmatizer, stemmer, stop_words = stop_words) for candidate in \n",
    "                        candidates[i]]"
   ]
  },
  {
   "cell_type": "code",
   "execution_count": 79,
   "metadata": {},
   "outputs": [],
   "source": [
    "for i in range(len(candidates)):\n",
    "    candidate = TF_IDF.transform(candidates[i])\n",
    "    candidates[i] = candidate"
   ]
  },
  {
   "cell_type": "code",
   "execution_count": 80,
   "metadata": {},
   "outputs": [],
   "source": [
    "na_x_test = na_vectorizer.transform([clean_text(text) for text in te_texts])\n",
    "na_x_test_proba = xgb_cls_na.predict_proba(na_x_test)"
   ]
  },
  {
   "cell_type": "code",
   "execution_count": 82,
   "metadata": {},
   "outputs": [],
   "source": [
    "na_positive_idx = np.where(xgb_cls_na.predict(na_x_test)==1)[0]"
   ]
  },
  {
   "cell_type": "markdown",
   "metadata": {},
   "source": [
    "For the prediction, we first classify texts as containing an applicable cosolidation date or not.<br>\n",
    "For the texts that are estimated to not include an applicable consolidation date, we predict their consolidation dates with the same procedure as for accident date"
   ]
  },
  {
   "cell_type": "code",
   "execution_count": 84,
   "metadata": {},
   "outputs": [],
   "source": [
    "preds = []\n",
    "for i, candidate in enumerate(candidates):\n",
    "    if i in na_positive_idx:\n",
    "        preds.append('n.a.')\n",
    "        continue\n",
    "    pred = np.argmax(classifier.predict_proba(candidate)[:,1])\n",
    "    score = np.max(classifier.predict_proba(candidate)[:,1])\n",
    "    if score < t: preds.append('n.c.')\n",
    "    else:\n",
    "        pred_date = sentence_dates[i][pred]\n",
    "        preds.append(pred_date)"
   ]
  },
  {
   "cell_type": "code",
   "execution_count": 85,
   "metadata": {},
   "outputs": [],
   "source": [
    "np.save('results/consolidation.npy', preds)"
   ]
  },
  {
   "cell_type": "markdown",
   "metadata": {},
   "source": [
    "## Submission"
   ]
  },
  {
   "cell_type": "markdown",
   "metadata": {},
   "source": [
    "Finally, we create the submission csv file using the saved numpy arrays for each of gender, accident date and conolidation date"
   ]
  },
  {
   "cell_type": "code",
   "execution_count": 111,
   "metadata": {},
   "outputs": [],
   "source": [
    "gender = list(np.load('results/gender.npy'))\n",
    "accident = list(np.load('results/accident.npy'))\n",
    "consolidation = list(np.load('results/consolidation.npy'))"
   ]
  },
  {
   "cell_type": "code",
   "execution_count": 112,
   "metadata": {},
   "outputs": [],
   "source": [
    "result = pd.read_csv('test_folder/x_test_ids.csv')"
   ]
  },
  {
   "cell_type": "code",
   "execution_count": 113,
   "metadata": {},
   "outputs": [],
   "source": [
    "result['sexe'] = gender\n",
    "result['date_accident'] = accident\n",
    "result['date_consolidation'] = consolidation"
   ]
  },
  {
   "cell_type": "code",
   "execution_count": 114,
   "metadata": {
    "scrolled": true
   },
   "outputs": [
    {
     "data": {
      "text/html": [
       "<div>\n",
       "<style scoped>\n",
       "    .dataframe tbody tr th:only-of-type {\n",
       "        vertical-align: middle;\n",
       "    }\n",
       "\n",
       "    .dataframe tbody tr th {\n",
       "        vertical-align: top;\n",
       "    }\n",
       "\n",
       "    .dataframe thead th {\n",
       "        text-align: right;\n",
       "    }\n",
       "</style>\n",
       "<table border=\"1\" class=\"dataframe\">\n",
       "  <thead>\n",
       "    <tr style=\"text-align: right;\">\n",
       "      <th></th>\n",
       "      <th>filename</th>\n",
       "      <th>sexe</th>\n",
       "      <th>date_accident</th>\n",
       "      <th>date_consolidation</th>\n",
       "    </tr>\n",
       "    <tr>\n",
       "      <th>ID</th>\n",
       "      <th></th>\n",
       "      <th></th>\n",
       "      <th></th>\n",
       "      <th></th>\n",
       "    </tr>\n",
       "  </thead>\n",
       "  <tbody>\n",
       "    <tr>\n",
       "      <th>770</th>\n",
       "      <td>Agen_1400036.txt</td>\n",
       "      <td>homme</td>\n",
       "      <td>2011-04-20</td>\n",
       "      <td>n.a.</td>\n",
       "    </tr>\n",
       "    <tr>\n",
       "      <th>771</th>\n",
       "      <td>Agen_20011399.txt</td>\n",
       "      <td>homme</td>\n",
       "      <td>1996-07-05</td>\n",
       "      <td>n.c.</td>\n",
       "    </tr>\n",
       "    <tr>\n",
       "      <th>772</th>\n",
       "      <td>Agen_21013.txt</td>\n",
       "      <td>homme</td>\n",
       "      <td>1989-05-11</td>\n",
       "      <td>n.c.</td>\n",
       "    </tr>\n",
       "    <tr>\n",
       "      <th>773</th>\n",
       "      <td>Agen_31076.txt</td>\n",
       "      <td>homme</td>\n",
       "      <td>1998-07-09</td>\n",
       "      <td>n.c.</td>\n",
       "    </tr>\n",
       "    <tr>\n",
       "      <th>774</th>\n",
       "      <td>Agen_3436.txt</td>\n",
       "      <td>homme</td>\n",
       "      <td>1999-05-28</td>\n",
       "      <td>2001-05-28</td>\n",
       "    </tr>\n",
       "    <tr>\n",
       "      <th>...</th>\n",
       "      <td>...</td>\n",
       "      <td>...</td>\n",
       "      <td>...</td>\n",
       "      <td>...</td>\n",
       "    </tr>\n",
       "    <tr>\n",
       "      <th>1022</th>\n",
       "      <td>Versailles_1102996.txt</td>\n",
       "      <td>homme</td>\n",
       "      <td>2005-04-07</td>\n",
       "      <td>n.a.</td>\n",
       "    </tr>\n",
       "    <tr>\n",
       "      <th>1023</th>\n",
       "      <td>Versailles_1404397.txt</td>\n",
       "      <td>femme</td>\n",
       "      <td>n.c.</td>\n",
       "      <td>1968-05-20</td>\n",
       "    </tr>\n",
       "    <tr>\n",
       "      <th>1024</th>\n",
       "      <td>Versailles_1508232.txt</td>\n",
       "      <td>femme</td>\n",
       "      <td>2014-08-07</td>\n",
       "      <td>2012-01-26</td>\n",
       "    </tr>\n",
       "    <tr>\n",
       "      <th>1025</th>\n",
       "      <td>Versailles_45687.txt</td>\n",
       "      <td>homme</td>\n",
       "      <td>2000-10-09</td>\n",
       "      <td>2005-12-01</td>\n",
       "    </tr>\n",
       "    <tr>\n",
       "      <th>1026</th>\n",
       "      <td>Versailles_64952.txt</td>\n",
       "      <td>femme</td>\n",
       "      <td>1987-04-29</td>\n",
       "      <td>n.c.</td>\n",
       "    </tr>\n",
       "  </tbody>\n",
       "</table>\n",
       "<p>257 rows × 4 columns</p>\n",
       "</div>"
      ],
      "text/plain": [
       "                    filename   sexe date_accident date_consolidation\n",
       "ID                                                                  \n",
       "770         Agen_1400036.txt  homme    2011-04-20               n.a.\n",
       "771        Agen_20011399.txt  homme    1996-07-05               n.c.\n",
       "772           Agen_21013.txt  homme    1989-05-11               n.c.\n",
       "773           Agen_31076.txt  homme    1998-07-09               n.c.\n",
       "774            Agen_3436.txt  homme    1999-05-28         2001-05-28\n",
       "...                      ...    ...           ...                ...\n",
       "1022  Versailles_1102996.txt  homme    2005-04-07               n.a.\n",
       "1023  Versailles_1404397.txt  femme          n.c.         1968-05-20\n",
       "1024  Versailles_1508232.txt  femme    2014-08-07         2012-01-26\n",
       "1025    Versailles_45687.txt  homme    2000-10-09         2005-12-01\n",
       "1026    Versailles_64952.txt  femme    1987-04-29               n.c.\n",
       "\n",
       "[257 rows x 4 columns]"
      ]
     },
     "execution_count": 114,
     "metadata": {},
     "output_type": "execute_result"
    }
   ],
   "source": [
    "result.index = result['ID']\n",
    "result = result.drop('ID', axis = 1)\n",
    "result"
   ]
  },
  {
   "cell_type": "code",
   "execution_count": 116,
   "metadata": {},
   "outputs": [],
   "source": [
    "result.to_csv('results/result.csv')"
   ]
  },
  {
   "cell_type": "code",
   "execution_count": null,
   "metadata": {},
   "outputs": [],
   "source": []
  }
 ],
 "metadata": {
  "kernelspec": {
   "display_name": "Python 3",
   "language": "python",
   "name": "python3"
  },
  "language_info": {
   "codemirror_mode": {
    "name": "ipython",
    "version": 3
   },
   "file_extension": ".py",
   "mimetype": "text/x-python",
   "name": "python",
   "nbconvert_exporter": "python",
   "pygments_lexer": "ipython3",
   "version": "3.6.9"
  }
 },
 "nbformat": 4,
 "nbformat_minor": 2
}

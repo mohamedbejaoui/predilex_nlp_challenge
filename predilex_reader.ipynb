{
 "cells": [
  {
   "cell_type": "code",
   "execution_count": 38,
   "metadata": {},
   "outputs": [],
   "source": [
    "import os\n",
    "import pandas as pd\n",
    "import re\n",
    "import numpy as np\n",
    "from typing import List, Tuple\n",
    "\n",
    "from sklearn.feature_extraction.text import CountVectorizer, TfidfVectorizer\n",
    "from sklearn.linear_model import LogisticRegression\n",
    "from sklearn.model_selection import cross_validate, GridSearchCV, RandomizedSearchCV\n",
    "from xgboost import XGBClassifier"
   ]
  },
  {
   "cell_type": "code",
   "execution_count": 2,
   "metadata": {},
   "outputs": [],
   "source": [
    "#x_train data\n",
    "x_tr_df = pd.read_csv('./train_folder/x_train_ids.csv', index_col=0)\n",
    "tr_dir = \"./train_folder/txt_files/\"\n",
    "tr_files = x_tr_df['filename'].values\n",
    "tr_texts = []\n",
    "for tr_file in tr_files:\n",
    "    f = open(os.path.join(tr_dir, tr_file), \"r\")\n",
    "    tr_texts.append(f.read().replace('\\xa0', ' ').replace('\\n', ' '))\n",
    "\n",
    "#x_test data\n",
    "x_te_df = pd.read_csv('./test_folder/x_test_ids.csv', index_col=0)\n",
    "te_dir = \"./test_folder/txt_files/\"\n",
    "te_files = x_te_df['filename'].values\n",
    "te_texts = []\n",
    "for te_file in te_files:\n",
    "    f = open(os.path.join(te_dir, te_file), \"r\")\n",
    "    te_texts.append(f.read().replace('\\xa0', ' ').replace('\\n', ' '))\n",
    "\n",
    "\n",
    "#y_train data\n",
    "y_tr_df = pd.read_csv('./Y_train_predilex.csv', index_col=0)"
   ]
  },
  {
   "cell_type": "code",
   "execution_count": 3,
   "metadata": {},
   "outputs": [
    {
     "name": "stdout",
     "output_type": "stream",
     "text": [
      "File : Agen_100515.txt\n",
      "Text (200 first char): Le : 12/11/2019     Cour d’appel d’Agen    chambre sociale    Audience publique du 30 avril 2002    N° de RG: 01/00515          REPUBLIQUE FRANCAISE   AU NOM DU PEUPLE FRANCAIS   ARRET DU 30 AVRIL 200\n",
      "Output : \n",
      "sexe                       homme\n",
      "date_accident         1991-04-09\n",
      "date_consolidation          n.c.\n",
      "Name: 0, dtype: object\n"
     ]
    }
   ],
   "source": [
    "i = 0\n",
    "print('File :', x_tr_df.iloc[i]['filename'])\n",
    "print('Text (200 first char):', tr_texts[i][:200])\n",
    "print('Output : ')\n",
    "print(y_tr_df.iloc[i])"
   ]
  },
  {
   "cell_type": "code",
   "execution_count": 4,
   "metadata": {},
   "outputs": [
    {
     "name": "stdout",
     "output_type": "stream",
     "text": [
      "Number of training samples: 770\n",
      "Number of test samples: 257\n"
     ]
    }
   ],
   "source": [
    "print(f\"Number of training samples: {len(tr_texts)}\")\n",
    "print(f\"Number of test samples: {len(te_texts)}\")"
   ]
  },
  {
   "cell_type": "code",
   "execution_count": 5,
   "metadata": {
    "scrolled": true
   },
   "outputs": [
    {
     "data": {
      "text/plain": [
       "'Le : 12/11/2019     Cour d’appel d’Agen    chambre sociale    Audience publique du 30 avril 2002    N° de RG: 01/00515          REPUBLIQUE FRANCAISE   AU NOM DU PEUPLE FRANCAIS   ARRET DU 30 AVRIL 2002 ----------------------- 01/00515 ----------------------- Yvon X... Annie X... C/ GROUPE AZUR ASSURANCES IARD CAISSE PRIMAIRE D’ASSURANCE MALADIE DE LOT ET GARONNE Yannick GUGUEN ès qualités de mandataire liquidateur à la liquidation judiciaire de la société des transports MOREL ----------------------- ARRET N° COUR D’APPEL D’AGEN CHAMBRE SOCIALE Prononcé à l’audience publique du trente Avril deux mille deux par Madame LATRABE, Conseiller, La COUR d’APPEL D’AGEN, CHAMBRE SOCIALE, dans l’affaire ENTRE : Monsieur Yvon X... né le 30 Septembre 1955 à TONNEINS (47) Y... du Laurier 47300 BIAS Rep/assistant : Me Pascale LUGUET (avocat au barreau d’AGEN) Madame Annie X... Y... du Laurier 47300 BIAS Rep/assistant : Me Pascale LUGUET (avocat au barreau d’AGEN) APPELANTS d’un jugement du Tribunal des affaires de sécurité sociale d’AGEN en date du 12 Février 2001 d’une part, ET : GROUPE AZUR ASSURANCES IARD 7 avenue Marcel Proust 28032 CHARTRES CEDEX Rep/assistant : Me Jean-Loup BOURDIN (avocat au barreau d’AGEN) CAISSE PRIMAIRE D’ASSURANCE MALADIE DE LOT ET GARONNE 2, rue Diderot 47914 AGEN CEDEX 9 représentée par Melle Z... (Mandataire) munie d’un pouvoir spécial Maître Yannick GUGUEN ès qualités de mandataire liquidateur à la liquidation judiciaire de la société des transports MOREL 22 boulevard Saint Cyr 47300 VILLENEUVE SUR LOT Rep/assistant : Me Jean-Loup BOURDIN (avocat au barreau d’AGEN) INTIMEE :      d’autre part,   DIRECTION REGIONALE DES AFFAIRES SANITAIRES ET SOCIALES AQUITAINE Cité Administrative BP 952 Rue Jules Ferry 33063 BORDEAUX CEDEX NI PRESENTE, NI REPRESENTEE PARTIE INTERVENANTE : A rendu l’arrêt réputé contradictoire suivant. La cause a été débattue et plaidée en audience publique le 19 Mars 2002 devant Monsieur MILHET, Président de Chambre, Madame LATRABE, Conseiller, Monsieur ROS, Conseiller, assistés de Nicole GALLOIS, Greffier et après qu’il en ait été délibéré par les magistrats du siège ayant assisté aux débats, les parties ayant été avisées de la date à laquelle l’arrêt serait rendu. * * *    Le 9 avril 1991, Monsieur X... a été victime d’un accident du travail au cours duquel il a été gravement blessé.    Suivant jugement en date du 24 avril 1997 confirmé par arrêt de la Cour en date du 30 mars 1999, le Tribunal des Affaires de Sécurité Sociale de LOT et GARONNE a dit que cet accident était dû à la faute   inexcusable de la S.A.R.L. TRANSPORTS MOREL, employeur de Monsieur X... et avant dire droit sur le préjudice, a ordonné une expertise médicale confiée au docteur A....    L’expert a déposé son rapport le 2 février 2 000.    Suivant jugement en date du 12 février 2 001, le Tribunal des Affaires de Sécurité Sociale de LOT et GARONNE a :    - rejeté l’intervention volontaire d’Annie X...    - fixé au maximum la majoration de rente    - condamné AZUR ASSURANCES à payer à Yvon X... la somme de 200 000 Francs en réparation des préjudices indemnisables    - déclaré la S.A.R.L. TRANSPORTS MOREL débitrice in solidum de cette somme    - dit que la C.P.A.M versera directement cette somme à Monsieur X... et qu’elle en récupérera le montant auprès d’AZUR ASSURANCES et de la S.A.R.L. TRANSPORTS MOREL, sous réserve pour cette dernière des règles de la procédure collective    - condamné AZUR ASSURANCES à payer à Monsieur X... la somme de 12 000 Francs au titre de l’article 700 du Nouveau Code de Procédure Civile.    Monsieur Yvon X... et Madame Annie X..., cette dernière agissant tant en son nom personnel qu’es qualité de représentante légale de ses deux enfants mineurs ont relevé appel de cette décision dans des conditions de forme et de délais qui ne sont pas contestées.   Monsieur et Madame X... font grief aux premiers juges d’avoir rejeté l’intervention volontaire de cette dernière alors pourtant qu’elle a tout intérêt à agir dans la mesure où, à la suite de l’accident dont Monsieur X... a été victime, elle a subi ainsi que les enfants mineurs, un préjudice moral et matériel considérable dont elle demande réparation.    Ils soutiennent, par ailleurs, que le Tribunal a sous évalué l’indemnisation des préjudices subis par Monsieur X... s’agissant des souffrances endurées, du préjudice esthétique, et du préjudice d’agrément.    Monsieur X... prétend enfin obtenir l’indemnisation du préjudice résultant de la perte de promotion professionnelle qu’il assimile à la perte de ses revenus professionnels pour les années à venir.    Ils demandent, dès lors, à la Cour de réformer la décision déférée et de :    - prendre acte de l’intervention volontaire de Madame X... en son nom personnel et en sa qualité de représentante légale de ses deux enfants mineurs,    - dire qu’ils sont victimes par ricochet et qu’ils peuvent solliciter à ce titre l’indemnisation de leurs préjudices,    - condamner solidairement le groupe AZUR et Maître GUGUEN es qualité de mandataire liquidateur de la S.A.R.L. TRANSPORTS MOREL à verser à Monsieur X... les sommes de 301 080 Euros au titre de la perte de   promotion professionnelle, 14 178 Euros au titre du pretium doloris, 30 491 Euros au titre du préjudice d’agrément et de 3 049 Euros au titre du préjudice esthétique.    - condamner les mêmes solidairement à verser à Madame X... en son nom personnel la somme de 62 130 Euros au titre de son préjudice professionnel et de 30 491 Euros au titre de son préjudice moral ainsi qu’en sa qualité de représentante légale de ses deux enfants mineurs la somme de 22 868 Euros pour chacun d’eux.    - les condamner enfin au paiement d’une somme de 3 049 Euros pour résistance abusive ainsi que d’une somme de 7 623 Euros au titre de l’article 700 du Nouveau Code de Procédure Civile.    Maître GUGUEN, es qualité de mandataire liquidateur de la Société des TRANSPORTS MOREL et la S.A. AZUR ASSURANCES demandent au contraire à la Cour de confirmer la décision entreprise sauf à réduire à 4 573,47 Euros (30 000 Francs) le montant de l’indemnité allouée à Monsieur X... en réparation de son préjudice d’agrément et à faire droit à leur appel incident concernant ce chef de préjudice ; ils sollicitent, enfin, la condamnation des appelants au paiement de la somme de 1 524,49 Euros (10 000 Francs) en application des dispositions de l’article 700 du Nouveau Code de Procédure Civile.    Ils soutiennent pour l’essentiel que :    - Madame X... est irrecevable en son action exercée tant en son nom propre qu’es qualité dans le cadre des dispositions législatives spécifiques aux accidents du travail.    - le préjudice d’agrément subi par Monsieur X... résulte seulement de la privation des activités sportives qu’il pratiquait avant   l’accident.    - Monsieur X... ne justifie pas de la perte ou de la diminution de ses possibilités de promotion professionnelle et le préjudice professionnel qu’il invoque à ce titre a déjà été indemnisé par la rente d’accident du travail de l’organisme social.    La Caisse Primaire d’Assurance Maladie de LOT ET GARONNE s’en remet à justice.    La Direction Régionale des Affaires Sanitaires et Sociales d’AQUITAINE, régulièrement convoquée n’a pas comparu ni personne pour elle.    SUR QUOI    Attendu que le conjoint de la victime blessée au cours d’un accident professionnel de la circulation n’est pas un ayant droit au sens des articles L 452-1 et suivants du Code de la Sécurité Sociale, en sorte qu’il ne peut prétendre devant le Tribunal des Affaires de la Sécurité Sociale ou devant la Cour statuant sur appel d’une décision rendue par cette juridiction, à la réparation de son préjudice personnel pas plus qu’à la réparation du préjudice subi personnellement par ses enfants mineurs.    Que le premier juge, après avoir procédé à une exacte analyse des faits de la cause, a donc à bon droit et en des attendus justes et bien fondés, rejeté l’intervention volontaire de Madame X... laquelle en appel, n’ apporte aucun argument décisif pour contredire ou réformer cette décision.    Attendu que s’agissant du préjudice subi par Monsieur X..., il suffit de rappeler qu’à la suite de l’accident dont il a été victime,   Monsieur X... a présenté un traumatisme crânien avec coma d’emblée et score de Glasgow à 7 ayant nécessité une hospitalisation dans le service de réanimation du CHU de BORDEAUX, un traumatisme thoracique avec fractures des arcs moyens des 5° et 6° côtes gauches, un traumatisme du membre inférieur droit avec fracture du péroné à droite ainsi qu’un traumatisme de l’épaule et du bras gauche avec présence d’un important hématome mais sans fracture sous jacente.    Qu’eu égard à la gravité des blessures subies par Monsieur X... et au caractère douloureux des interventions, traitements, et soins, qu’elles ont nécessité dans le cadre notamment de plusieurs hospitalisations en réanimation, en neuro chirurgie, en neurologie, en neuro psychiatrie et en centre de rééducation, l’indemnisation des souffrances endurées quantifiées par l’expert à 5,5/7 a été correctement fixée à 10 671,43 Euros ( 70 000 Francs) par le premier juge.    Que la réparation du préjudice esthétique quantifié par l’expert 1/7 et résultant d’une asymétrie du visage et d’une allure saccadée de la marche a été justement fixée à 1 524,49 Euros (10 000 Francs).    Que le préjudice d’agrément qui résulte de la perte de la qualité de la vie de la victime et notamment de l’impossibilité ou de la difficulté pour celle ci de se livrer à des activités normales d’agrément ne concerne pas seulement la privation d’activités sportives comme le vélo ou le judo mais aussi la perte des satisfactions usuelles de la vie sociale et familiale ; qu’en l’espèce, ce préjudice compte tenu de l’importance des privations endurées par Monsieur X... sur ces différents plans du fait de l’altération de ses facultés mentales d’initiative a été à juste titre évalué à la somme de 18 293,88 Euros (120 000 Francs).    Que la majoration de la rente a été à bon droit fixée au maximum.    Attendu que sous couvert d’indemnisation d’un préjudice résultant de   la perte ou de la diminution des possibilités de promotion professionnelle dont il ne rapporte pas la preuve, Monsieur X... qui explique que désormais aucune réinsertion professionnelle n’est envisageable, demande en réalité réparation d’un préjudice professionnel constitué par la perte de ses revenus pour les années à venir, lequel ne fait pas partie des préjudices indemnisables devant la juridiction de sécurité sociale limitativement énumérés aux articles L 452-2 et L 452-3 du Code de la Sécurité sociale; que l’intéressé bénéficie désormais d’une rente d’accident du travail tenant compte de sa situation sur le plan professionnel ; qu’une telle demande ne peut donc qu’être rejetée.    Attendu, enfin, qu’à l’appui de leur demande de dommages intérêts pour résistance abusive, les appelants ne caractérisent aucune faute imputable aux intimés et ne justifient d’aucun préjudice de nature à fonder cette prétention.    Qu’il convient, par conséquent, de confirmer la décision déférée en toutes ses dispositions.    Attendu que l’équité ne commande pas de faire application en cause d’appel des dispositions de l’article 700 du Nouveau Code de Procédure Civile.    Attendu que les dépens d’appel seront mis à la charge des appelants qui succombent pour l’essentiel.    PAR CES MOTIFS    LA COUR    Reçoit les appels jugés réguliers en la forme,    Au fond,    Confirme le jugement entrepris en toutes ses dispositions,    Rejette comme inutile ou mal fondée toute demande contraire ou plus ample des parties,    Condamne Monsieur Yvon X... et Madame Annie X... aux dépens de l’appel. LE GREFFIER,   LE PRESIDENT, N. GALLOIS   A. MILHET   Titrages et résumés : SECURITE SOCIALE, ACCIDENT DU TRAVAIL - Faute inexcusable de l’employeur - Procédure Le conjoint de la victime, blessée au cours d’un accident professionnel de la circulation, n’est pas un ayant droit au sens des articles L. 452-1 et suivants du Code de la sécurité sociale, en sorte qu’il ne peut prétendre, devant le Tribunal des Affaires de la Sécurité Sociale ou devant la Cour, statuant sur appel d’une décision rendue par cette juridiction, à la réparation de son préjudice personnel, pas plus qu’à la réparation du préjudice subi personnellement par ses enfants mineurs          Textes appliqués :  Code de la sécurité sociale, articles L. 452-1 et suivants '"
      ]
     },
     "execution_count": 5,
     "metadata": {},
     "output_type": "execute_result"
    }
   ],
   "source": [
    "tr_texts[0]"
   ]
  },
  {
   "cell_type": "markdown",
   "metadata": {},
   "source": [
    "### Gender classification"
   ]
  },
  {
   "cell_type": "code",
   "execution_count": 6,
   "metadata": {},
   "outputs": [],
   "source": [
    "# drop rows with unknow gender in training set\n",
    "gender_na_idx = y_tr_df[y_tr_df['sexe'] == 'n.c.'].index\n",
    "y_tr_df = y_tr_df[y_tr_df['sexe'] != 'n.c.']\n",
    "y_tr_df.reset_index(inplace=True, drop=True)\n",
    "\n",
    "tr_texts = [tr_texts[i] for i in range(len(tr_texts)) if i not in gender_na_idx]"
   ]
  },
  {
   "cell_type": "markdown",
   "metadata": {},
   "source": [
    "#### Method 1: specific words count per gender (NOT GOOD)"
   ]
  },
  {
   "cell_type": "code",
   "execution_count": 7,
   "metadata": {},
   "outputs": [],
   "source": [
    "reg_exp_male = r\"il|monsieur| né| représenté\"\n",
    "reg_exp_female = r\"elle|madame|mademoiselle| née| représentée\""
   ]
  },
  {
   "cell_type": "code",
   "execution_count": 8,
   "metadata": {},
   "outputs": [],
   "source": [
    "def ismale(text:str):\n",
    "    male_words = re.findall(reg_exp_male, text, flags=re.IGNORECASE)\n",
    "    female_words = re.findall(reg_exp_female, text, flags=re.IGNORECASE)\n",
    "    return len(male_words) >= len(female_words)"
   ]
  },
  {
   "cell_type": "code",
   "execution_count": 9,
   "metadata": {},
   "outputs": [
    {
     "name": "stdout",
     "output_type": "stream",
     "text": [
      "Accuracy on train set: 78.17%\n"
     ]
    }
   ],
   "source": [
    "y_pred_train = np.array([ismale(text) for text in tr_texts], dtype=int)\n",
    "y_train = y_tr_df['sexe'].map({'homme': 1, 'femme': 0}).values\n",
    "\n",
    "print(f\"Accuracy on train set: {round((1 - (y_pred_train - y_train).mean()) * 100, 2)}%\")"
   ]
  },
  {
   "cell_type": "markdown",
   "metadata": {},
   "source": [
    "#### Method 2: bag of words (GOOD)"
   ]
  },
  {
   "cell_type": "code",
   "execution_count": 62,
   "metadata": {},
   "outputs": [],
   "source": [
    "# clean text without using stop words nor lemmitizer\n",
    "def clean_text(text: str) -> str:\n",
    "    \"\"\" remove unwanted characters from text \"\"\"\n",
    "    # remove line breaks\n",
    "    text = text.replace('\\n', '')\n",
    "    # remove quotes\n",
    "    text = text.replace('\"', '')\n",
    "    #lowercase text\n",
    "    text = text.lower()\n",
    "    #remove punctuation and special characters ?:!.,[]();\n",
    "    text = text.translate(str.maketrans('', '', '?:!.,;[]()*-'))\n",
    "    # remove possessive pronouns termination\n",
    "    text = text.replace(\"'s\", \"\")\n",
    "    # remove unnecessery white spaces\n",
    "    text = re.sub(r\"\\s\\s+\", \" \", text)\n",
    "        \n",
    "    return text"
   ]
  },
  {
   "cell_type": "code",
   "execution_count": 8,
   "metadata": {},
   "outputs": [],
   "source": [
    "tfidf_vec = TfidfVectorizer(ngram_range=(1, 2), max_features=100, norm='l2', sublinear_tf=True)\n",
    "x_train = tfidf_vec.fit_transform(tr_texts)\n",
    "y_train = y_tr_df['sexe'].map({'homme': 1, 'femme': 0}).values"
   ]
  },
  {
   "cell_type": "code",
   "execution_count": 9,
   "metadata": {},
   "outputs": [
    {
     "name": "stdout",
     "output_type": "stream",
     "text": [
      "Number of samples for class 0: 206\n",
      "Number of samples for class 1: 559\n"
     ]
    }
   ],
   "source": [
    "c_val, c_count = np.unique(y_train, return_counts=True)\n",
    "for i, c in enumerate(c_val):\n",
    "    print(f\"Number of samples for class {c}: {c_count[i]}\")"
   ]
  },
  {
   "cell_type": "code",
   "execution_count": 10,
   "metadata": {},
   "outputs": [],
   "source": [
    "def apply_cv(cls, cv=3):\n",
    "    cv_results = cross_validate(cls, x_train, y_train, scoring='accuracy', return_train_score=True, cv=cv)\n",
    "    print(f\"CV Accuracy: {round(cv_results['train_score'].mean() * 100, 2)}%\")"
   ]
  },
  {
   "cell_type": "code",
   "execution_count": 11,
   "metadata": {},
   "outputs": [
    {
     "name": "stdout",
     "output_type": "stream",
     "text": [
      "CV Accuracy: 75.56%\n"
     ]
    }
   ],
   "source": [
    "logistic_reg = LogisticRegression()\n",
    "apply_cv(logistic_reg)"
   ]
  },
  {
   "cell_type": "code",
   "execution_count": 12,
   "metadata": {},
   "outputs": [],
   "source": [
    "def perform_grid_search(cls, param_grid):\n",
    "    \"\"\" perform a grid search on a classifier using 3-fold cross validation and the passed prameters \"\"\"\n",
    "    grid_search = GridSearchCV(estimator=cls, \n",
    "                               param_grid=param_grid,\n",
    "                               scoring='accuracy',\n",
    "                               cv=3,\n",
    "                               verbose=1)\n",
    "    grid_search.fit(x_train, y_train)\n",
    "    print(f\"The best hyperparameters from Grid Seach are: {grid_search.best_params_}\")\n",
    "    return grid_search.best_estimator_"
   ]
  },
  {
   "cell_type": "code",
   "execution_count": 15,
   "metadata": {},
   "outputs": [
    {
     "name": "stdout",
     "output_type": "stream",
     "text": [
      "Fitting 3 folds for each of 36 candidates, totalling 108 fits\n"
     ]
    },
    {
     "name": "stderr",
     "output_type": "stream",
     "text": [
      "[Parallel(n_jobs=1)]: Using backend SequentialBackend with 1 concurrent workers.\n",
      "[Parallel(n_jobs=1)]: Done 108 out of 108 | elapsed:  1.0min finished\n"
     ]
    },
    {
     "name": "stdout",
     "output_type": "stream",
     "text": [
      "The best hyperparameters from Grid Seach are: {'colsample_bytree': 1, 'learning_rate': 0.1, 'max_depth': 3, 'subsample': 0.9}\n"
     ]
    }
   ],
   "source": [
    "random_state = 42\n",
    "\n",
    "param_grid = {\n",
    "    'max_depth': [3, 5],\n",
    "    'learning_rate': [.01, .1],\n",
    "    'subsample': [.7, .9, 1],\n",
    "    'colsample_bytree': [.7, .9, 1],\n",
    "}\n",
    "xgb_cls = XGBClassifier(random_state=random_state)\n",
    "xgb_cls = perform_grid_search(xgb_cls, param_grid)"
   ]
  },
  {
   "cell_type": "code",
   "execution_count": 16,
   "metadata": {},
   "outputs": [
    {
     "name": "stdout",
     "output_type": "stream",
     "text": [
      "CV Accuracy: 99.87%\n"
     ]
    }
   ],
   "source": [
    "apply_cv(xgb_cls, 10)"
   ]
  },
  {
   "cell_type": "markdown",
   "metadata": {},
   "source": [
    "### Accident date"
   ]
  },
  {
   "cell_type": "code",
   "execution_count": 3,
   "metadata": {},
   "outputs": [
    {
     "name": "stdout",
     "output_type": "stream",
     "text": [
      "Remaining rows: 743\n"
     ]
    }
   ],
   "source": [
    "# drop rows with unknow accident date in training set\n",
    "accdate_na_idx = y_tr_df[y_tr_df['date_accident'] == 'n.c.'].index\n",
    "y_tr_df = y_tr_df[y_tr_df['date_accident'] != 'n.c.']\n",
    "y_tr_df.reset_index(inplace=True, drop=True)\n",
    "\n",
    "tr_texts = [tr_texts[i] for i in range(len(tr_texts)) if i not in accdate_na_idx]\n",
    "\n",
    "    \n",
    "print(f\"Remaining rows: {len(tr_texts)}\")"
   ]
  },
  {
   "cell_type": "code",
   "execution_count": 7,
   "metadata": {},
   "outputs": [
    {
     "data": {
      "text/plain": [
       "[('30', 'avril', '2002'),\n",
       " ('30', 'AVRIL', '2002'),\n",
       " ('30', 'Septembre', '1955'),\n",
       " ('12', 'Février', '2001'),\n",
       " ('19', 'Mars', '2002'),\n",
       " ('9', 'avril', '1991'),\n",
       " ('24', 'avril', '1997'),\n",
       " ('30', 'mars', '1999'),\n",
       " ('2', 'février', '2'),\n",
       " ('12', 'février', '2')]"
      ]
     },
     "execution_count": 7,
     "metadata": {},
     "output_type": "execute_result"
    }
   ],
   "source": [
    "re.findall(r\"(\\d+) (\\w+) (\\d+)\", tr_texts[0])"
   ]
  },
  {
   "cell_type": "code",
   "execution_count": 42,
   "metadata": {},
   "outputs": [],
   "source": [
    "# REGEX PATTERNS\n",
    "\n",
    "pattern1 = r\"\\d+ \\w+ \\d+\"\n",
    "pattern2 = r\"1° \\w+ \\d+\"\n",
    "pattern3 = r\"1er \\w+ \\d+\"\n",
    "pattern4 = r\"\\d+\\.\\d+\\.\\d+\"\n",
    "pattern5 = r\"\\d+/\\d+/\\d+\"\n",
    "pattern6 = r\"\\d+ / \\d+ / \\d+\"\n",
    "pattern7 = r\"\\d+/ \\d+/ \\d+\"\n",
    "pattern8 = r\"\\d+\\. \\d+\\. \\d+\"\n",
    "\n",
    "pattern1_bis = r\"(\\d+) (\\w+) (\\d+)\"\n",
    "pattern2_bis = r\"(1°) (\\w+) (\\d+)\"\n",
    "pattern3_bis = r\"(1er) (\\w+) (\\d+)\"\n",
    "pattern4_bis = r\"(\\d+)\\.(\\d+)\\.(\\d+)\"\n",
    "pattern5_bis = r\"(\\d+)/(\\d+)/(\\d+)\"\n",
    "pattern6_bis = r\"(\\d+) / (\\d+) / (\\d+)\"\n",
    "pattern7_bis = r\"(\\d+)/ (\\d+)/ (\\d+)\"\n",
    "pattern8_bis = r\"(\\d+)\\. (\\d+)\\. (\\d+)\"\n",
    "\n",
    "months_str_to_int = dict(janvier='01', fevrier='02', mars='03', avril='04', mai='05', juin='06',\n",
    "                         juillet='07', aout='08', septembre='09', novembre='10', octobre='11',\n",
    "                         decembre='12')\n",
    "\n",
    "def format_date(day:str, month:str):\n",
    "    if len(day) == 1:\n",
    "        day = '0' + day\n",
    "    if not month.isnumeric():\n",
    "        month = months_str_to_int[month.lower().replace('é', 'e').replace('ô', 'o')]\n",
    "    elif len(month) == 1:\n",
    "        month = '0' + month\n",
    "    return day, month\n"
   ]
  },
  {
   "cell_type": "code",
   "execution_count": 63,
   "metadata": {},
   "outputs": [],
   "source": [
    "patterns = [pattern1]\n",
    "patterns_bis = [pattern1_bis]\n",
    "\n",
    "\n",
    "window_trunc = 300\n",
    "    \n",
    "\n",
    "def find_sentences_with_dates(text: str, tr_idx) -> pd.DataFrame:\n",
    "    \"\"\" return all sentences containing a date from corpus text \"\"\"\n",
    "\n",
    "    # remove ... from text\n",
    "    text = re.sub(r\"[.]{2,}\", \"\", text)\n",
    "    \n",
    "    #initialze dataframe\n",
    "    sentences_df = pd.DataFrame(columns=['tr_idx', 'sentence', 'class'])\n",
    "    \n",
    "    df = pd.DataFrame(columns=['tr_idx', 'sentence', 'class'])\n",
    "    accident_date = y_tr_df.iloc[tr_idx]['date_accident']\n",
    "    for pattern_idx, pattern in enumerate(patterns):\n",
    "        for date in re.findall(pattern, text):\n",
    "            reg_match = re.match(patterns_bis[pattern_idx], date)\n",
    "            day, month, year = reg_match[1], reg_match[2], reg_match[3]\n",
    "            day, month = format_date(day, month)\n",
    "            current_date = f\"{year}-{month}-{day}\"\n",
    "            sentences = [senten[:window_trunc] for senten in re.findall(r\"[^.]*?\"+date+r\"[^.]*\", text)]\n",
    "            df = df.append(pd.DataFrame([[tr_idx, clean_text(senten), int(current_date == accident_date)] for senten in sentences],\n",
    "                                columns=['tr_idx', 'sentence', 'class']), ignore_index=True)\n",
    "        \n",
    "    return df"
   ]
  },
  {
   "cell_type": "code",
   "execution_count": 64,
   "metadata": {},
   "outputs": [
    {
     "data": {
      "text/html": [
       "<div>\n",
       "<style scoped>\n",
       "    .dataframe tbody tr th:only-of-type {\n",
       "        vertical-align: middle;\n",
       "    }\n",
       "\n",
       "    .dataframe tbody tr th {\n",
       "        vertical-align: top;\n",
       "    }\n",
       "\n",
       "    .dataframe thead th {\n",
       "        text-align: right;\n",
       "    }\n",
       "</style>\n",
       "<table border=\"1\" class=\"dataframe\">\n",
       "  <thead>\n",
       "    <tr style=\"text-align: right;\">\n",
       "      <th></th>\n",
       "      <th>tr_idx</th>\n",
       "      <th>sentence</th>\n",
       "      <th>class</th>\n",
       "    </tr>\n",
       "  </thead>\n",
       "  <tbody>\n",
       "    <tr>\n",
       "      <th>0</th>\n",
       "      <td>0</td>\n",
       "      <td>le 12/11/2019 cour d’appel d’agen chambre soci...</td>\n",
       "      <td>0</td>\n",
       "    </tr>\n",
       "    <tr>\n",
       "      <th>1</th>\n",
       "      <td>0</td>\n",
       "      <td>le 12/11/2019 cour d’appel d’agen chambre soci...</td>\n",
       "      <td>0</td>\n",
       "    </tr>\n",
       "    <tr>\n",
       "      <th>2</th>\n",
       "      <td>0</td>\n",
       "      <td>le 12/11/2019 cour d’appel d’agen chambre soci...</td>\n",
       "      <td>0</td>\n",
       "    </tr>\n",
       "    <tr>\n",
       "      <th>3</th>\n",
       "      <td>0</td>\n",
       "      <td>le 12/11/2019 cour d’appel d’agen chambre soci...</td>\n",
       "      <td>0</td>\n",
       "    </tr>\n",
       "    <tr>\n",
       "      <th>4</th>\n",
       "      <td>0</td>\n",
       "      <td>la cause a été débattue et plaidée en audienc...</td>\n",
       "      <td>0</td>\n",
       "    </tr>\n",
       "    <tr>\n",
       "      <th>5</th>\n",
       "      <td>0</td>\n",
       "      <td>le 9 avril 1991 monsieur x a été victime d’un...</td>\n",
       "      <td>1</td>\n",
       "    </tr>\n",
       "    <tr>\n",
       "      <th>6</th>\n",
       "      <td>0</td>\n",
       "      <td>suivant jugement en date du 24 avril 1997 con...</td>\n",
       "      <td>0</td>\n",
       "    </tr>\n",
       "    <tr>\n",
       "      <th>7</th>\n",
       "      <td>0</td>\n",
       "      <td>suivant jugement en date du 24 avril 1997 con...</td>\n",
       "      <td>0</td>\n",
       "    </tr>\n",
       "    <tr>\n",
       "      <th>8</th>\n",
       "      <td>0</td>\n",
       "      <td>transports morel employeur de monsieur x et a...</td>\n",
       "      <td>0</td>\n",
       "    </tr>\n",
       "    <tr>\n",
       "      <th>9</th>\n",
       "      <td>0</td>\n",
       "      <td>suivant jugement en date du 12 février 2 001 ...</td>\n",
       "      <td>0</td>\n",
       "    </tr>\n",
       "    <tr>\n",
       "      <th>10</th>\n",
       "      <td>0</td>\n",
       "      <td>suivant jugement en date du 12 février 2 001 ...</td>\n",
       "      <td>0</td>\n",
       "    </tr>\n",
       "  </tbody>\n",
       "</table>\n",
       "</div>"
      ],
      "text/plain": [
       "   tr_idx                                           sentence class\n",
       "0       0  le 12/11/2019 cour d’appel d’agen chambre soci...     0\n",
       "1       0  le 12/11/2019 cour d’appel d’agen chambre soci...     0\n",
       "2       0  le 12/11/2019 cour d’appel d’agen chambre soci...     0\n",
       "3       0  le 12/11/2019 cour d’appel d’agen chambre soci...     0\n",
       "4       0   la cause a été débattue et plaidée en audienc...     0\n",
       "5       0   le 9 avril 1991 monsieur x a été victime d’un...     1\n",
       "6       0   suivant jugement en date du 24 avril 1997 con...     0\n",
       "7       0   suivant jugement en date du 24 avril 1997 con...     0\n",
       "8       0   transports morel employeur de monsieur x et a...     0\n",
       "9       0   suivant jugement en date du 12 février 2 001 ...     0\n",
       "10      0   suivant jugement en date du 12 février 2 001 ...     0"
      ]
     },
     "execution_count": 64,
     "metadata": {},
     "output_type": "execute_result"
    }
   ],
   "source": [
    "senten_train_df = pd.DataFrame(columns=['tr_idx', 'sentence', 'class'])\n"
   ]
  },
  {
   "cell_type": "code",
   "execution_count": null,
   "metadata": {},
   "outputs": [],
   "source": []
  }
 ],
 "metadata": {
  "kernelspec": {
   "display_name": "Python 3",
   "language": "python",
   "name": "python3"
  },
  "language_info": {
   "codemirror_mode": {
    "name": "ipython",
    "version": 3
   },
   "file_extension": ".py",
   "mimetype": "text/x-python",
   "name": "python",
   "nbconvert_exporter": "python",
   "pygments_lexer": "ipython3",
   "version": "3.6.9"
  }
 },
 "nbformat": 4,
 "nbformat_minor": 2
}
